{
 "cells": [
  {
   "cell_type": "code",
   "execution_count": 49,
   "metadata": {},
   "outputs": [
    {
     "name": "stdout",
     "output_type": "stream",
     "text": [
      "[[0. 0. 0.]\n",
      " [0. 0. 0.]]\n"
     ]
    }
   ],
   "source": [
    "import numpy as np\n",
    "\n",
    "print(np.empty((2,3)))#garbage value"
   ]
  },
  {
   "cell_type": "code",
   "execution_count": 47,
   "metadata": {},
   "outputs": [
    {
     "name": "stdout",
     "output_type": "stream",
     "text": [
      "[10 10 10 10 10 10 10 10]\n",
      "[[7 7 7 7]\n",
      " [7 7 7 7]\n",
      " [7 7 7 7]]\n"
     ]
    }
   ],
   "source": [
    "print(np.full(8,10))\n",
    "\n",
    "arr= np.full((3,4),7)\n",
    "print(arr)"
   ]
  },
  {
   "cell_type": "code",
   "execution_count": 42,
   "metadata": {},
   "outputs": [
    {
     "name": "stdout",
     "output_type": "stream",
     "text": [
      "[0. 0. 0. 0. 0.]\n",
      "[[0 0 0]\n",
      " [0 0 0]]\n",
      "[[[0. 0. 0. 0.]\n",
      "  [0. 0. 0. 0.]\n",
      "  [0. 0. 0. 0.]]\n",
      "\n",
      " [[0. 0. 0. 0.]\n",
      "  [0. 0. 0. 0.]\n",
      "  [0. 0. 0. 0.]]]\n"
     ]
    }
   ],
   "source": [
    "#Array Initialization ---------------------------------------------------------------------------------------------------------------------------\n",
    "  #zeros --------\n",
    "import numpy as np\n",
    "#1 D array\n",
    "print(np.zeros(5))\n",
    "\n",
    "#2 D array\n",
    "print(np.zeros((2, 3),dtype=int))\n",
    "\n",
    "#3 D array\n",
    "print(np.zeros((2, 3, 4)))"
   ]
  },
  {
   "cell_type": "code",
   "execution_count": 37,
   "metadata": {},
   "outputs": [
    {
     "name": "stdout",
     "output_type": "stream",
     "text": [
      "[ 2  4  6  8 10 12 14 16 18 20]\n",
      "[40 50]\n"
     ]
    }
   ],
   "source": [
    "import numpy as np\n",
    "array_1 = np.array(range(1, 21))\n",
    "even_num = array_1[array_1 % 2 == 0]\n",
    "print(even_num)\n",
    "\n",
    "array_2 = np.array([10, 20, 30, 40, 50])\n",
    "result_arr = array_2[np.mean(array_2) < array_2]\n",
    "print(result_arr)"
   ]
  },
  {
   "cell_type": "markdown",
   "metadata": {},
   "source": [
    "1.create a 1D numpy array from 1 to 20\n",
    "   1.1 use boolean index into extract all even number\n",
    "2.Given the numpy array with elements 10,20,30,40,50,use boolean index into extract all elements greter than the mean of the array"
   ]
  },
  {
   "cell_type": "code",
   "execution_count": 32,
   "metadata": {},
   "outputs": [
    {
     "name": "stdout",
     "output_type": "stream",
     "text": [
      "[False False  True  True  True]\n",
      "[30 40 50]\n"
     ]
    }
   ],
   "source": [
    "arr = np.array([10, 20, 30, 40, 50])\n",
    "condition = arr > 25\n",
    "print(condition)\n",
    "result_arr = arr[condition]\n",
    "print(result_arr)"
   ]
  },
  {
   "cell_type": "code",
   "execution_count": 26,
   "metadata": {},
   "outputs": [
    {
     "name": "stdout",
     "output_type": "stream",
     "text": [
      "[[ 1  2  3  4  5]\n",
      " [ 6  7  8  9 10]\n",
      " [11 12 13 14 15]\n",
      " [16 17 18 19 20]]\n",
      "[[11 12 13 14 15]\n",
      " [16 17 18 19 20]\n",
      " [21 22 23 24 25]\n",
      " [26 27 28 29 30]]\n",
      "[[ 2  4  6  8 10]\n",
      " [12 14 16 18 20]\n",
      " [22 24 26 28 30]\n",
      " [32 34 36 38 40]]\n",
      "[[  1   4   9  16  25]\n",
      " [ 36  49  64  81 100]\n",
      " [121 144 169 196 225]\n",
      " [256 289 324 361 400]]\n"
     ]
    }
   ],
   "source": [
    "import numpy as np\n",
    "array_1 = np.array([\n",
    "                    [1,2,3,4,5], [6,7,8,9,10], [11,12,13,14,15], [16,17,18,19,20]\n",
    "                ])\n",
    "add_10 = array_1 + 10\n",
    "multiply =  array_1 * 2\n",
    "square_num = array_1 ** 2\n",
    "print (array_1)\n",
    "print(add_10)\n",
    "print(multiply)\n",
    "print(square_num)"
   ]
  },
  {
   "cell_type": "markdown",
   "metadata": {},
   "source": [
    "create a 2d num.py array with the shape 4 by 5 containing the numbers 1-20\n",
    "perform the following opertions on the above matrics\n",
    "       1. add 10 to every element\n",
    "       2. multiply 2 every element\n",
    "       3. calculate square of each element"
   ]
  },
  {
   "cell_type": "code",
   "execution_count": 24,
   "metadata": {},
   "outputs": [
    {
     "name": "stdout",
     "output_type": "stream",
     "text": [
      "[[1 2 3]\n",
      " [4 5 6]]\n",
      "(2, 3)\n",
      "6\n",
      "2\n",
      "int64\n",
      "(2, 2, 3)\n",
      "12\n",
      "3\n",
      "int64\n"
     ]
    }
   ],
   "source": [
    "import numpy as np\n",
    "array_1 = np.array([[1,2,3],[4,5,6]])\n",
    "print(array_1)\n",
    "print(array_1.shape) #get dimension\n",
    "print(array_1.size) #induvidual element (number of elements)\n",
    "print(array_1.ndim) #number of dimensions\n",
    "print(array_1.dtype)\n",
    "\n",
    "array_2 = np.array([\n",
    "                        [ [1,2,3],[4,5,6] ] ,\n",
    "                        [ [7,8,9],[10,11,12] ] \n",
    "                    ])\n",
    "print(array_2.shape)\n",
    "print(array_2.size)\n",
    "print(array_2.ndim)\n",
    "print(array_2.dtype)\n"
   ]
  },
  {
   "cell_type": "code",
   "execution_count": 15,
   "metadata": {},
   "outputs": [
    {
     "name": "stdout",
     "output_type": "stream",
     "text": [
      "[11 19 21  5] [ 1  1  1 -3] [ 30  90 110   4] [1.2        1.11111111 1.1        0.25      ]\n",
      "[ 36 100 121   1]\n",
      "[5. 8. 2.]\n",
      "93\n",
      "31.0\n",
      "64 4\n"
     ]
    }
   ],
   "source": [
    "import numpy as np\n",
    "array_1 = np.array([6,10,11,1])\n",
    "array_2 = np.array([5,9,10,4])\n",
    "array_3 = np.array([25,64,4])\n",
    "sum_array = array_1 + array_2\n",
    "min_array = array_1 - array_2\n",
    "multi_array = array_1 * array_2 \n",
    "div_array = array_1/array_2\n",
    "print(sum_array, min_array, multi_array,div_array)\n",
    "\n",
    "square_num_array_1 = array_1 ** 2\n",
    "print(square_num_array_1)\n",
    "\n",
    "square_root = np.sqrt(array_3)\n",
    "sum = np.sum(array_3)\n",
    "mean = np.mean(array_3)\n",
    "max = np.max(array_3)\n",
    "min = np.min(array_3)\n",
    "print(square_root)\n",
    "print(sum)\n",
    "print(mean)\n",
    "print(max, min)"
   ]
  },
  {
   "cell_type": "code",
   "execution_count": 6,
   "metadata": {},
   "outputs": [
    {
     "name": "stdout",
     "output_type": "stream",
     "text": [
      "[ 6 10 11  1] <class 'numpy.ndarray'>\n"
     ]
    }
   ],
   "source": [
    "import numpy as np\n",
    "array_1 = np.array([6,10,11,1])\n",
    "print(array_1,type(array_1))"
   ]
  }
 ],
 "metadata": {
  "kernelspec": {
   "display_name": "Python 3",
   "language": "python",
   "name": "python3"
  },
  "language_info": {
   "codemirror_mode": {
    "name": "ipython",
    "version": 3
   },
   "file_extension": ".py",
   "mimetype": "text/x-python",
   "name": "python",
   "nbconvert_exporter": "python",
   "pygments_lexer": "ipython3",
   "version": "3.13.0"
  }
 },
 "nbformat": 4,
 "nbformat_minor": 2
}
