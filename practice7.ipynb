{
 "cells": [
  {
   "cell_type": "code",
   "execution_count": 15,
   "metadata": {},
   "outputs": [
    {
     "name": "stdout",
     "output_type": "stream",
     "text": [
      "[11 19 21  5] [ 1  1  1 -3] [ 30  90 110   4] [1.2        1.11111111 1.1        0.25      ]\n",
      "[ 36 100 121   1]\n",
      "[5. 8. 2.]\n",
      "93\n",
      "31.0\n",
      "64 4\n"
     ]
    }
   ],
   "source": [
    "import numpy as np\n",
    "array_1 = np.array([6,10,11,1])\n",
    "array_2 = np.array([5,9,10,4])\n",
    "array_3 = np.array([25,64,4])\n",
    "sum_array = array_1 + array_2\n",
    "min_array = array_1 - array_2\n",
    "multi_array = array_1 * array_2 \n",
    "div_array = array_1/array_2\n",
    "print(sum_array, min_array, multi_array,div_array)\n",
    "\n",
    "square_num_array_1 = array_1 ** 2\n",
    "print(square_num_array_1)\n",
    "\n",
    "square_root = np.sqrt(array_3)\n",
    "sum = np.sum(array_3)\n",
    "mean = np.mean(array_3)\n",
    "max = np.max(array_3)\n",
    "min = np.min(array_3)\n",
    "print(square_root)\n",
    "print(sum)\n",
    "print(mean)\n",
    "print(max, min)"
   ]
  },
  {
   "cell_type": "code",
   "execution_count": 6,
   "metadata": {},
   "outputs": [
    {
     "name": "stdout",
     "output_type": "stream",
     "text": [
      "[ 6 10 11  1] <class 'numpy.ndarray'>\n"
     ]
    }
   ],
   "source": [
    "import numpy as np\n",
    "array_1 = np.array([6,10,11,1])\n",
    "print(array_1,type(array_1))"
   ]
  }
 ],
 "metadata": {
  "kernelspec": {
   "display_name": "Python 3",
   "language": "python",
   "name": "python3"
  },
  "language_info": {
   "codemirror_mode": {
    "name": "ipython",
    "version": 3
   },
   "file_extension": ".py",
   "mimetype": "text/x-python",
   "name": "python",
   "nbconvert_exporter": "python",
   "pygments_lexer": "ipython3",
   "version": "3.13.0"
  }
 },
 "nbformat": 4,
 "nbformat_minor": 2
}
