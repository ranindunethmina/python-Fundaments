{
 "cells": [
  {
   "cell_type": "code",
   "execution_count": 1,
   "metadata": {},
   "outputs": [
    {
     "name": "stdout",
     "output_type": "stream",
     "text": [
      "Hello world\n"
     ]
    }
   ],
   "source": [
    "print(\"Hello world\")"
   ]
  },
  {
   "cell_type": "code",
   "execution_count": 1,
   "metadata": {},
   "outputs": [
    {
     "name": "stdout",
     "output_type": "stream",
     "text": [
      "The type of variable having value 10 is <class 'int'>\n",
      "The type of variable having value 12.57467 is <class 'float'>\n",
      "The type of variable having value (100+5j) is <class 'complex'>\n"
     ]
    }
   ],
   "source": [
    "a= 10\n",
    "b=12.57467\n",
    "c=100+5j\n",
    "print(\"The type of variable having value\", a, \"is\", type(a))\n",
    "print(\"The type of variable having value\", b, \"is\", type(b))\n",
    "print(\"The type of variable having value\", c, \"is\", type(c))"
   ]
  },
  {
   "cell_type": "code",
   "execution_count": 3,
   "metadata": {},
   "outputs": [
    {
     "name": "stdout",
     "output_type": "stream",
     "text": [
      "Variable 250000.0 is type of <class 'float'>\n",
      "Variable -6.76e+101 is type of <class 'float'>\n"
     ]
    }
   ],
   "source": [
    "x=25e4\n",
    "y=-67.6e100\n",
    "print(\"Variable\", x ,\"is type of\",type(x))\n",
    "print(\"Variable\", y ,\"is type of\",type(y))"
   ]
  },
  {
   "cell_type": "code",
   "execution_count": 4,
   "metadata": {},
   "outputs": [
    {
     "name": "stdout",
     "output_type": "stream",
     "text": [
      "5 5.0 <class 'float'>\n"
     ]
    }
   ],
   "source": [
    "a=5\n",
    "b= float(a)\n",
    "print(a, b, type(b))"
   ]
  },
  {
   "cell_type": "code",
   "execution_count": 4,
   "metadata": {},
   "outputs": [
    {
     "name": "stdout",
     "output_type": "stream",
     "text": [
      "[10, 5, 'cat', 20, 25, True]\n"
     ]
    }
   ],
   "source": [
    "my_list = [10, 5, \"cat\", 20, 25, True]\n",
    "print(my_list)"
   ]
  },
  {
   "cell_type": "code",
   "execution_count": 5,
   "metadata": {},
   "outputs": [
    {
     "name": "stdout",
     "output_type": "stream",
     "text": [
      "['cat', 'lion', 'dog']\n"
     ]
    }
   ],
   "source": [
    "my_list = list((\"cat\", \"lion\", \"dog\"))\n",
    "print(my_list)"
   ]
  },
  {
   "cell_type": "code",
   "execution_count": 6,
   "metadata": {},
   "outputs": [
    {
     "name": "stdout",
     "output_type": "stream",
     "text": [
      "5\n",
      "True\n",
      "cat\n",
      "[5, 'cat', 'dog'] <class 'list'>\n"
     ]
    }
   ],
   "source": [
    "my_list = [10, 5, \"cat\", \"dog\", True]\n",
    "print(len(my_list))\n",
    "print(my_list[-1])\n",
    "print(my_list[-3])\n",
    "print(my_list[1:4], type(my_list[1:4]))"
   ]
  },
  {
   "cell_type": "code",
   "execution_count": 7,
   "metadata": {},
   "outputs": [
    {
     "name": "stdout",
     "output_type": "stream",
     "text": [
      "[10, 5, 'cat']\n",
      "['cat', 'dog', True]\n"
     ]
    }
   ],
   "source": [
    "my_list = [10, 5, \"cat\", \"dog\", True]\n",
    "print(my_list[:3])\n",
    "print(my_list[2:])"
   ]
  },
  {
   "cell_type": "code",
   "execution_count": 8,
   "metadata": {},
   "outputs": [
    {
     "name": "stdout",
     "output_type": "stream",
     "text": [
      "[10, 'parrot', 17.0, 'dog', True]\n"
     ]
    }
   ],
   "source": [
    "my_list = [10, 5, \"cat\", \"dog\", True]\n",
    "my_list[1:3]=[\"parrot\",17.0]\n",
    "print(my_list)"
   ]
  },
  {
   "cell_type": "code",
   "execution_count": 9,
   "metadata": {},
   "outputs": [
    {
     "name": "stdout",
     "output_type": "stream",
     "text": [
      "[10, 5, 'rat', 'cat', 'dog', True, 'carrot'] 7\n"
     ]
    }
   ],
   "source": [
    "my_list = [10, 5, \"cat\", \"dog\", True]\n",
    "my_list.insert(2, \"rat\")\n",
    "my_list.append(\"carrot\")\n",
    "print(my_list, len(my_list))"
   ]
  },
  {
   "cell_type": "code",
   "execution_count": 10,
   "metadata": {},
   "outputs": [
    {
     "name": "stdout",
     "output_type": "stream",
     "text": [
      "[10, 5, 'cat', 'dog', True, 'John', 3, False] 8\n"
     ]
    }
   ],
   "source": [
    "my_list = [10, 5, \"cat\", \"dog\", True]\n",
    "my_list_1 =[\"John\", 3, False]\n",
    "my_list.extend(my_list_1)\n",
    "print(my_list, len(my_list))"
   ]
  },
  {
   "cell_type": "code",
   "execution_count": 6,
   "metadata": {},
   "outputs": [
    {
     "name": "stdout",
     "output_type": "stream",
     "text": [
      "[10, 5, 'dog', True]\n"
     ]
    }
   ],
   "source": [
    "my_list = [10, 5, \"cat\", \"dog\", True]\n",
    "my_list.remove(\"cat\")\n",
    "print(my_list)"
   ]
  },
  {
   "cell_type": "code",
   "execution_count": null,
   "metadata": {},
   "outputs": [
    {
     "name": "stdout",
     "output_type": "stream",
     "text": [
      "[10, 5, 'dog', True] 4\n"
     ]
    }
   ],
   "source": [
    "my_list = [10, 5, \"cat\", \"dog\", True]\n",
    "my_list.pop(2)\n",
    "print(my_list, len(my_list))"
   ]
  },
  {
   "cell_type": "code",
   "execution_count": 12,
   "metadata": {},
   "outputs": [
    {
     "name": "stdout",
     "output_type": "stream",
     "text": [
      "[10, 5, 'dog', True] 4\n"
     ]
    },
    {
     "ename": "NameError",
     "evalue": "name 'my_list' is not defined",
     "output_type": "error",
     "traceback": [
      "\u001b[1;31m---------------------------------------------------------------------------\u001b[0m",
      "\u001b[1;31mNameError\u001b[0m                                 Traceback (most recent call last)",
      "Cell \u001b[1;32mIn[12], line 5\u001b[0m\n\u001b[0;32m      3\u001b[0m \u001b[38;5;28mprint\u001b[39m(my_list, \u001b[38;5;28mlen\u001b[39m(my_list))\n\u001b[0;32m      4\u001b[0m \u001b[38;5;28;01mdel\u001b[39;00m my_list\n\u001b[1;32m----> 5\u001b[0m \u001b[38;5;28mprint\u001b[39m(\u001b[43mmy_list\u001b[49m, \u001b[38;5;28mlen\u001b[39m(my_list))\n",
      "\u001b[1;31mNameError\u001b[0m: name 'my_list' is not defined"
     ]
    }
   ],
   "source": [
    "my_list = [10, 5, \"cat\", \"dog\", True]\n",
    "del my_list[2]\n",
    "print(my_list, len(my_list))\n",
    "del my_list\n",
    "print(my_list, len(my_list))"
   ]
  },
  {
   "cell_type": "code",
   "execution_count": 13,
   "metadata": {},
   "outputs": [
    {
     "name": "stdout",
     "output_type": "stream",
     "text": [
      "[] 0\n"
     ]
    }
   ],
   "source": [
    "my_list = [10, 5, \"cat\", \"dog\", True]\n",
    "my_list.clear()\n",
    "print(my_list, len(my_list))"
   ]
  },
  {
   "cell_type": "code",
   "execution_count": 14,
   "metadata": {},
   "outputs": [
    {
     "name": "stdout",
     "output_type": "stream",
     "text": [
      "['Grapes', 'apple', 'banana', 'orange']\n"
     ]
    }
   ],
   "source": [
    "my_list = [\"Grapes\", \"apple\", \"orange\", \"banana\"]\n",
    "my_list.sort()\n",
    "print(my_list)"
   ]
  },
  {
   "cell_type": "code",
   "execution_count": 15,
   "metadata": {},
   "outputs": [
    {
     "name": "stdout",
     "output_type": "stream",
     "text": [
      "['apple', 'banana', 'Grapes', 'orange']\n"
     ]
    }
   ],
   "source": [
    "my_list = [\"Grapes\", \"apple\", \"orange\", \"banana\"]\n",
    "my_list.sort(key=str.lower)\n",
    "print(my_list)"
   ]
  },
  {
   "cell_type": "code",
   "execution_count": 16,
   "metadata": {},
   "outputs": [
    {
     "name": "stdout",
     "output_type": "stream",
     "text": [
      "[25, 10, 8, 5, 3]\n"
     ]
    }
   ],
   "source": [
    "my_list = [5, 3, 10, 25, 8]\n",
    "my_list.sort(reverse= True)\n",
    "print(my_list)"
   ]
  },
  {
   "cell_type": "code",
   "execution_count": 17,
   "metadata": {},
   "outputs": [
    {
     "name": "stdout",
     "output_type": "stream",
     "text": [
      "[12, 10, 13, 4, 1, 5, 6, 1, 7, 8, 10]\n",
      "[1, 1, 4, 5, 6, 7, 8, 10, 10, 12, 13]\n",
      "7\n",
      "4\n",
      "10\n"
     ]
    }
   ],
   "source": [
    "my_list_1=[12, 10, 13, 4, 1, 5]\n",
    "my_list_2=[6, 1, 7, 8, 10]\n",
    "my_list_1.extend(my_list_2)\n",
    "print(my_list_1)\n",
    "my_list_1.sort()\n",
    "print(my_list_1)\n",
    "position_midian = (len(my_list_1)+1 )/2\n",
    "position_midian = int(position_midian)\n",
    "median = my_list_1[position_midian-1]\n",
    "print(median)\n",
    "position_q1 = (len(my_list_1)+1 )/4\n",
    "position_q1 = int(position_q1)\n",
    "q1 = my_list_1[position_q1-1]\n",
    "print(q1)\n",
    "position_q3 = (len(my_list_1)+1 )/4*3\n",
    "position_q3 = int(position_q3)\n",
    "q3 = my_list_1[position_q3-1]\n",
    "print(q3)\n",
    "\n",
    "\n"
   ]
  }
 ],
 "metadata": {
  "kernelspec": {
   "display_name": "Python 3",
   "language": "python",
   "name": "python3"
  },
  "language_info": {
   "codemirror_mode": {
    "name": "ipython",
    "version": 3
   },
   "file_extension": ".py",
   "mimetype": "text/x-python",
   "name": "python",
   "nbconvert_exporter": "python",
   "pygments_lexer": "ipython3",
   "version": "3.13.0"
  }
 },
 "nbformat": 4,
 "nbformat_minor": 2
}
