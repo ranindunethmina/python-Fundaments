{
 "cells": [
  {
   "cell_type": "code",
   "execution_count": null,
   "metadata": {},
   "outputs": [
    {
     "name": "stdout",
     "output_type": "stream",
     "text": [
      "3\n",
      "<class 'tuple'>\n"
     ]
    }
   ],
   "source": [
    "my_tuple_1 = (\"apple\", 8, \"tennis\")\n",
    "print(len(my_tuple_1))\n",
    "print(type(my_tuple_1))"
   ]
  },
  {
   "cell_type": "code",
   "execution_count": 13,
   "metadata": {},
   "outputs": [
    {
     "name": "stdout",
     "output_type": "stream",
     "text": [
      "<class 'tuple'>\n"
     ]
    }
   ],
   "source": [
    "my_tuple_1 = (8,)\n",
    "print(type(my_tuple_1))"
   ]
  },
  {
   "cell_type": "code",
   "execution_count": 16,
   "metadata": {},
   "outputs": [
    {
     "name": "stdout",
     "output_type": "stream",
     "text": [
      "(8, 10, 15, 7)\n"
     ]
    }
   ],
   "source": [
    "my_tuple_1 = (8, 10, 12, 7)\n",
    "my_list_1 = list(my_tuple_1)\n",
    "my_list_1[2] =15\n",
    "my_tuple_1 = tuple(my_list_1)\n",
    "print(my_tuple_1)"
   ]
  },
  {
   "cell_type": "code",
   "execution_count": null,
   "metadata": {},
   "outputs": [
    {
     "name": "stdout",
     "output_type": "stream",
     "text": [
      "banana\n",
      "False\n"
     ]
    }
   ],
   "source": [
    "my_tuple_1 = ((1,3,2) , (\"apple\", \"banana\", \"grapes\") , (True,False))\n",
    "# nested tuples\n",
    "print(my_tuple_1[1][1])\n",
    "print(my_tuple_1[2][1])"
   ]
  },
  {
   "cell_type": "code",
   "execution_count": 20,
   "metadata": {},
   "outputs": [
    {
     "name": "stdout",
     "output_type": "stream",
     "text": [
      "<class 'range'>\n",
      "5\n",
      "3\n"
     ]
    }
   ],
   "source": [
    "range_1 = range(1,11,2)\n",
    "print(type(range_1))\n",
    "print(len(range_1))\n",
    "print(range_1[1])"
   ]
  }
 ],
 "metadata": {
  "kernelspec": {
   "display_name": "Python 3",
   "language": "python",
   "name": "python3"
  },
  "language_info": {
   "codemirror_mode": {
    "name": "ipython",
    "version": 3
   },
   "file_extension": ".py",
   "mimetype": "text/x-python",
   "name": "python",
   "nbconvert_exporter": "python",
   "pygments_lexer": "ipython3",
   "version": "3.13.0"
  }
 },
 "nbformat": 4,
 "nbformat_minor": 2
}
