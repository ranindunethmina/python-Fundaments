{
 "cells": [
  {
   "cell_type": "code",
   "execution_count": null,
   "metadata": {},
   "outputs": [
    {
     "name": "stdout",
     "output_type": "stream",
     "text": [
      "3\n",
      "<class 'tuple'>\n"
     ]
    }
   ],
   "source": [
    "my_tuple_1 = (\"apple\", 8, \"tennis\")\n",
    "print(len(my_tuple_1))\n",
    "print(type(my_tuple_1))"
   ]
  },
  {
   "cell_type": "code",
   "execution_count": 13,
   "metadata": {},
   "outputs": [
    {
     "name": "stdout",
     "output_type": "stream",
     "text": [
      "<class 'tuple'>\n"
     ]
    }
   ],
   "source": [
    "my_tuple_1 = (8,)\n",
    "print(type(my_tuple_1))"
   ]
  },
  {
   "cell_type": "code",
   "execution_count": 16,
   "metadata": {},
   "outputs": [
    {
     "name": "stdout",
     "output_type": "stream",
     "text": [
      "(8, 10, 15, 7)\n"
     ]
    }
   ],
   "source": [
    "my_tuple_1 = (8, 10, 12, 7)\n",
    "my_list_1 = list(my_tuple_1)\n",
    "my_list_1[2] =15\n",
    "my_tuple_1 = tuple(my_list_1)\n",
    "print(my_tuple_1)"
   ]
  },
  {
   "cell_type": "code",
   "execution_count": null,
   "metadata": {},
   "outputs": [
    {
     "name": "stdout",
     "output_type": "stream",
     "text": [
      "banana\n",
      "False\n"
     ]
    }
   ],
   "source": [
    "my_tuple_1 = ((1,3,2) , (\"apple\", \"banana\", \"grapes\") , (True,False))\n",
    "# nested tuples\n",
    "print(my_tuple_1[1][1])\n",
    "print(my_tuple_1[2][1])"
   ]
  },
  {
   "cell_type": "code",
   "execution_count": 20,
   "metadata": {},
   "outputs": [
    {
     "name": "stdout",
     "output_type": "stream",
     "text": [
      "<class 'range'>\n",
      "5\n",
      "3\n"
     ]
    }
   ],
   "source": [
    "range_1 = range(1,11,2)\n",
    "print(type(range_1))\n",
    "print(len(range_1))\n",
    "print(range_1[1])"
   ]
  },
  {
   "cell_type": "code",
   "execution_count": null,
   "metadata": {},
   "outputs": [
    {
     "name": "stdout",
     "output_type": "stream",
     "text": [
      "{'name': 'sugar', 'weight': '1KG'}\n",
      "<class 'dict'>\n",
      "2\n"
     ]
    }
   ],
   "source": [
    "my_dict = {\"name\":\"sugar\", \"weight\":\"1KG\"}\n",
    "print(my_dict)\n",
    "print(type(my_dict))\n",
    "print(len(my_dict))\n",
    "print()"
   ]
  },
  {
   "cell_type": "code",
   "execution_count": 11,
   "metadata": {},
   "outputs": [
    {
     "name": "stdout",
     "output_type": "stream",
     "text": [
      "{'name': 'sugar', 'weight': '5KG'}\n",
      "sugar\n",
      "{'name': 'toffe', 'weight': '5KG'}\n"
     ]
    }
   ],
   "source": [
    "my_dict = {\"name\":\"sugar\", \"weight\":\"1KG\", \"weight\":\"5KG\"}\n",
    "print(my_dict)\n",
    "print(my_dict[\"name\"])\n",
    "my_dict[\"name\"]= \"toffe\"\n",
    "print(my_dict)"
   ]
  },
  {
   "cell_type": "code",
   "execution_count": null,
   "metadata": {},
   "outputs": [
    {
     "name": "stdout",
     "output_type": "stream",
     "text": [
      "name\n",
      "weight\n"
     ]
    }
   ],
   "source": [
    "my_dict = {\"name\": \"sugar\", \"weight\": \"1KG\"}\n",
    "\n",
    "# Print only keys\n",
    "for key in my_dict.keys():\n",
    "    print(key)\n"
   ]
  },
  {
   "cell_type": "code",
   "execution_count": 16,
   "metadata": {},
   "outputs": [
    {
     "name": "stdout",
     "output_type": "stream",
     "text": [
      "270.0\n",
      "2024-11-12\n",
      "{'name': 'sugar', 'weight': '1KG', 'price': 270.0}\n"
     ]
    }
   ],
   "source": [
    "my_dict = {\"name\": \"sugar\", \"weight\": \"1KG\", \"price\":270.00}\n",
    "print(my_dict.get(\"price\"))\n",
    "print(my_dict.get(\"expire_date\",\"2024-11-12\"))\n",
    "print(my_dict)"
   ]
  },
  {
   "cell_type": "code",
   "execution_count": 18,
   "metadata": {},
   "outputs": [
    {
     "name": "stdout",
     "output_type": "stream",
     "text": [
      "{'name': 'sugar', 'weight': '2Kg', 'price': '290.00'}\n"
     ]
    }
   ],
   "source": [
    "my_dict = {\"name\": \"sugar\", \"weight\": \"1KG\", \"price\":270.00}\n",
    "my_dict.update({\"price\":\"290.00\", \"weight\" : \"2Kg\"})\n",
    "print(my_dict)"
   ]
  },
  {
   "cell_type": "code",
   "execution_count": 23,
   "metadata": {},
   "outputs": [
    {
     "name": "stdout",
     "output_type": "stream",
     "text": [
      "{'name': 'sugar', 'weight': '1KG', 'price': 270.0, 'colour': 'white'}\n"
     ]
    }
   ],
   "source": [
    "my_dict = {\"name\": \"sugar\", \"weight\": \"1KG\", \"price\":270.00}\n",
    "my_dict[\"colour\"] = \"white\"\n",
    "print(my_dict)"
   ]
  },
  {
   "cell_type": "code",
   "execution_count": null,
   "metadata": {},
   "outputs": [
    {
     "name": "stdout",
     "output_type": "stream",
     "text": [
      "1\n"
     ]
    }
   ],
   "source": [
    "my_dict = {\"name\": \"sugar\", \"weight\": \"1KG\", \"price\":270.00}\n",
    "my_dict.pop(\"weight\")\n",
    "del my_dict[\"price\"]\n",
    "print(my_dict)"
   ]
  },
  {
   "cell_type": "code",
   "execution_count": 28,
   "metadata": {},
   "outputs": [
    {
     "ename": "NameError",
     "evalue": "name 'my_dict' is not defined",
     "output_type": "error",
     "traceback": [
      "\u001b[1;31m---------------------------------------------------------------------------\u001b[0m",
      "\u001b[1;31mNameError\u001b[0m                                 Traceback (most recent call last)",
      "Cell \u001b[1;32mIn[28], line 3\u001b[0m\n\u001b[0;32m      1\u001b[0m my_dict \u001b[38;5;241m=\u001b[39m {\u001b[38;5;124m\"\u001b[39m\u001b[38;5;124mname\u001b[39m\u001b[38;5;124m\"\u001b[39m: \u001b[38;5;124m\"\u001b[39m\u001b[38;5;124msugar\u001b[39m\u001b[38;5;124m\"\u001b[39m, \u001b[38;5;124m\"\u001b[39m\u001b[38;5;124mweight\u001b[39m\u001b[38;5;124m\"\u001b[39m: \u001b[38;5;124m\"\u001b[39m\u001b[38;5;124m1KG\u001b[39m\u001b[38;5;124m\"\u001b[39m, \u001b[38;5;124m\"\u001b[39m\u001b[38;5;124mprice\u001b[39m\u001b[38;5;124m\"\u001b[39m:\u001b[38;5;241m270.00\u001b[39m}\n\u001b[0;32m      2\u001b[0m \u001b[38;5;28;01mdel\u001b[39;00m my_dict\n\u001b[1;32m----> 3\u001b[0m \u001b[38;5;28mprint\u001b[39m(\u001b[38;5;28mlen\u001b[39m(\u001b[43mmy_dict\u001b[49m))\n",
      "\u001b[1;31mNameError\u001b[0m: name 'my_dict' is not defined"
     ]
    }
   ],
   "source": [
    "my_dict = {\"name\": \"sugar\", \"weight\": \"1KG\", \"price\":270.00}\n",
    "del my_dict\n",
    "print(len(my_dict))"
   ]
  },
  {
   "cell_type": "code",
   "execution_count": null,
   "metadata": {},
   "outputs": [
    {
     "name": "stdout",
     "output_type": "stream",
     "text": [
      "{'name': 'sugar', 'weight': '1KG', 'price': 270.0}\n"
     ]
    }
   ],
   "source": [
    "my_dict = {\"name\": \"sugar\", \"weight\": \"1KG\", \"price\":270.00}\n",
    "# my_dict.clear()\n",
    "# print(my_dict)\n",
    "my_dict1 = my_dict.copy()\n",
    "print(my_dict1)"
   ]
  },
  {
   "cell_type": "code",
   "execution_count": null,
   "metadata": {},
   "outputs": [
    {
     "name": "stdout",
     "output_type": "stream",
     "text": [
      "4\n",
      "1\n"
     ]
    }
   ],
   "source": [
    "# arithmetical operators\n",
    "y = 9//2\n",
    "print(y)\n",
    "\n",
    "y = 7%3\n",
    "print(y)"
   ]
  },
  {
   "cell_type": "code",
   "execution_count": null,
   "metadata": {},
   "outputs": [],
   "source": [
    "# assignment operators\n",
    "x +=5\n",
    "x = x-1\n"
   ]
  },
  {
   "cell_type": "code",
   "execution_count": null,
   "metadata": {},
   "outputs": [
    {
     "name": "stdout",
     "output_type": "stream",
     "text": [
      "True\n",
      "True\n",
      "False\n",
      "False\n"
     ]
    }
   ],
   "source": [
    "x= 5\n",
    "y=6\n",
    "print(x<10 and y<8)\n",
    "# print(x<10 && y<8)\n",
    "print(x<10 or y<8)\n",
    "print(not x>1)\n",
    "print(x is y)"
   ]
  },
  {
   "cell_type": "code",
   "execution_count": null,
   "metadata": {},
   "outputs": [
    {
     "name": "stdout",
     "output_type": "stream",
     "text": [
      "False\n"
     ]
    }
   ],
   "source": [
    "x=5 \n",
    "y=5\n",
    "# Exception 0-256 save same memory location\n",
    "print(x is y)\n"
   ]
  },
  {
   "cell_type": "code",
   "execution_count": 50,
   "metadata": {},
   "outputs": [
    {
     "name": "stdout",
     "output_type": "stream",
     "text": [
      "True\n",
      "False\n"
     ]
    }
   ],
   "source": [
    "my_list = [8, 10, 12, 13, 15]\n",
    "print(10 in my_list)\n",
    "print(11 in my_list)"
   ]
  },
  {
   "cell_type": "code",
   "execution_count": 51,
   "metadata": {},
   "outputs": [
    {
     "name": "stdout",
     "output_type": "stream",
     "text": [
      "0\n"
     ]
    }
   ],
   "source": [
    "x= 5\n",
    "y= 10\n",
    "print(x & y)"
   ]
  }
 ],
 "metadata": {
  "kernelspec": {
   "display_name": "Python 3",
   "language": "python",
   "name": "python3"
  },
  "language_info": {
   "codemirror_mode": {
    "name": "ipython",
    "version": 3
   },
   "file_extension": ".py",
   "mimetype": "text/x-python",
   "name": "python",
   "nbconvert_exporter": "python",
   "pygments_lexer": "ipython3",
   "version": "3.13.0"
  }
 },
 "nbformat": 4,
 "nbformat_minor": 2
}
