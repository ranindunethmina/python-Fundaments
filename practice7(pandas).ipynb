{
 "cells": [
  {
   "cell_type": "code",
   "execution_count": 14,
   "metadata": {},
   "outputs": [
    {
     "name": "stdout",
     "output_type": "stream",
     "text": [
      "      Name  Age\n",
      "0    Alice   25\n",
      "1      Bob   30\n",
      "2  Charlie   35\n",
      "3    David   40\n",
      "<class 'pandas.core.frame.DataFrame'>\n",
      "Bob\n",
      "Bob\n",
      "Name    Charlie\n",
      "Age          35\n",
      "Name: 2, dtype: object\n",
      "    Name  Age\n",
      "0  Alice   25\n",
      "3  David   40\n"
     ]
    }
   ],
   "source": [
    "import pandas as pd\n",
    "\n",
    "data = {'Name':['Alice','Bob','Charlie','David'],\n",
    "        'Age': [25,30,35,40]}\n",
    "df = pd.DataFrame(data)\n",
    "print(df)\n",
    "print(type(df))\n",
    "\n",
    "#label base\n",
    "print(df.loc[1, 'Name'])\n",
    "#index base\n",
    "print(df.iloc[1, 0])\n",
    "print(df.loc[2])\n",
    "print(df.loc[[0,3]])"
   ]
  },
  {
   "cell_type": "code",
   "execution_count": 26,
   "metadata": {},
   "outputs": [
    {
     "name": "stdout",
     "output_type": "stream",
     "text": [
      "      calories  duration\n",
      "day1       420        50\n",
      "day2       380        45\n",
      "day3       390        40\n",
      "390\n",
      "390\n",
      "calories    380\n",
      "duration     45\n",
      "Name: day2, dtype: int64\n",
      "calories    380\n",
      "duration     45\n",
      "Name: day2, dtype: int64\n"
     ]
    }
   ],
   "source": [
    "# import pandas as pd\n",
    "data = {\n",
    "    \"calories\": [420,380,390],\n",
    "    \"duration\": [50,45,40]\n",
    "}\n",
    "df = pd.DataFrame(data,index =[\"day1\",\"day2\",\"day3\",])\n",
    "print(df)\n",
    "print(df.loc['day3','calories'])\n",
    "print(df.iloc[2,0])\n",
    "print(df.loc['day2'])\n",
    "print(df.iloc[1])"
   ]
  },
  {
   "cell_type": "code",
   "execution_count": 30,
   "metadata": {},
   "outputs": [
    {
     "name": "stdout",
     "output_type": "stream",
     "text": [
      "day1    420\n",
      "day2    380\n",
      "day3    390\n",
      "Name: calories, dtype: int64\n",
      "/////////\n",
      "(3, 2)\n",
      "6\n",
      "calories    int64\n",
      "duration    int64\n",
      "dtype: object\n"
     ]
    }
   ],
   "source": [
    "data = {\n",
    "    \"calories\": [420,380,390],\n",
    "    \"duration\": [50,45,40]\n",
    "}\n",
    "df = pd.DataFrame(data,index =[\"day1\",\"day2\",\"day3\",])\n",
    "print(df['calories'])\n",
    "\n",
    "print(\"/////////\")\n",
    "print(df.shape)\n",
    "print(df.size)\n",
    "print(df.dtypes)\n"
   ]
  },
  {
   "cell_type": "code",
   "execution_count": 34,
   "metadata": {},
   "outputs": [
    {
     "name": "stdout",
     "output_type": "stream",
     "text": [
      "(2, 2)\n",
      "4\n",
      "['A', 'B']\n",
      "///////////////\n",
      "[[1 3]\n",
      " [2 4]] <class 'numpy.ndarray'>\n",
      "2\n"
     ]
    }
   ],
   "source": [
    "df = pd.DataFrame(\n",
    "    {\n",
    "        'A':[1,2],\n",
    "        'B':[3,4]\n",
    "    }\n",
    ")\n",
    "\n",
    "print(df.shape)\n",
    "print(df.size)\n",
    "print(list(df.columns))\n",
    "\n",
    "print(\"///////////////\")\n",
    "print(df.values,type(df.values))\n",
    "print(len(df))"
   ]
  },
  {
   "cell_type": "code",
   "execution_count": 40,
   "metadata": {},
   "outputs": [
    {
     "name": "stdout",
     "output_type": "stream",
     "text": [
      "4\n",
      "Age          32.5\n",
      "salary    45000.0\n",
      "dtype: float64\n",
      "//////\n",
      "<bound method Series.mean of 0    25\n",
      "1    30\n",
      "2    35\n",
      "3    40\n",
      "Name: Age, dtype: int64>\n",
      "//////\n",
      "Age          130\n",
      "salary    180000\n",
      "dtype: int64\n"
     ]
    }
   ],
   "source": [
    "data2 = {\n",
    "    'Age' :[25,30,35,40],\n",
    "    'salary' : [30000,40000,50000,60000]\n",
    "}\n",
    "df= pd.DataFrame(data2)\n",
    "print(len(df))\n",
    "print(df.mean())\n",
    "\n",
    "print('//////')\n",
    "print(df['Age'].mean)\n",
    "\n",
    "print('//////')\n",
    "print(df.sum())"
   ]
  },
  {
   "cell_type": "markdown",
   "metadata": {},
   "source": [
    "you are data anylasis for retail comapany.company has provided you with following tables containing sales data\n",
    "task:-\n",
    "    1.use pandas to load the above table into a dataframe\n",
    "    2.add the new coloumn total revenue that calculate the total revunue for each order.\n",
    "    3.Identify the best selling product/products"
   ]
  },
  {
   "cell_type": "code",
   "execution_count": 56,
   "metadata": {},
   "outputs": [
    {
     "name": "stdout",
     "output_type": "stream",
     "text": [
      "   order_id      product    category  quantity  price_per_unit\n",
      "0       101       laptop  electronic         2            1000\n",
      "1       102  smart_phone  electronic         5             800\n",
      "2       103   desk_chair   furniture        10             150\n",
      "3       104      monitor  electronic         4             200\n",
      "4       105    bookshelf   furniture         2             300\n",
      "/////////////////////////////////////////////////////////////////////////////////////\n",
      "   order_id      product    category  quantity  price_per_unit  total\n",
      "0       101       laptop  electronic         2            1000   2000\n",
      "1       102  smart_phone  electronic         5             800   4000\n",
      "2       103   desk_chair   furniture        10             150   1500\n",
      "3       104      monitor  electronic         4             200    800\n",
      "4       105    bookshelf   furniture         2             300    600\n",
      "/////////////////////////////////////////////////////////////////////////////////////\n",
      "   order_id      product    category  quantity  price_per_unit  total\n",
      "1       102  smart_phone  electronic         5             800   4000\n"
     ]
    }
   ],
   "source": [
    "data = {\n",
    "    'order_id': [101,102,103,104,105],\n",
    "    'product':['laptop','smart_phone','desk_chair','monitor','bookshelf'],\n",
    "    'category':['electronic','electronic','furniture', 'electronic','furniture'],\n",
    "    'quantity':[2,5,10,4,2],\n",
    "    'price_per_unit':[1000,800,150,200,300]\n",
    "}\n",
    "df= pd.DataFrame(data)\n",
    "print(df)\n",
    "print('/////////////////////////////////////////////////////////////////////////////////////')\n",
    "df[\"total\"] = df['quantity']*df['price_per_unit']\n",
    "print(df)\n",
    "print('/////////////////////////////////////////////////////////////////////////////////////')\n",
    "print(df[df['total'] == max(df['total'])])"
   ]
  },
  {
   "cell_type": "code",
   "execution_count": 51,
   "metadata": {},
   "outputs": [
    {
     "name": "stdout",
     "output_type": "stream",
     "text": [
      "    name  age  score\n",
      "1    Bob   30     90\n",
      "3  Diana   28     92\n",
      "<class 'pandas.core.frame.DataFrame'>\n"
     ]
    }
   ],
   "source": [
    "data = {\n",
    "    'name': ['Alice', 'Bob', 'Charlie', 'Diana'],\n",
    "    'age': [25, 30, 22, 28],\n",
    "    'score': [85, 90, 78, 92]\n",
    "}\n",
    "\n",
    "df = pd.DataFrame(data)\n",
    "filtered = df[df['age'] > 25]\n",
    "print(filtered)\n",
    "print(type(filtered))"
   ]
  },
  {
   "cell_type": "code",
   "execution_count": 70,
   "metadata": {},
   "outputs": [
    {
     "name": "stdout",
     "output_type": "stream",
     "text": [
      "   A  B\n",
      "0  1  3\n",
      "1  2  4\n",
      "2  5  6\n",
      "   A\n",
      "0  1\n",
      "1  2\n",
      "2  5\n"
     ]
    }
   ],
   "source": [
    "df = pd.DataFrame(\n",
    "    {\n",
    "        'A':[1,2],\n",
    "        'B':[3,4]\n",
    "    }\n",
    ")\n",
    "df.loc[len(df)]= [5,6]\n",
    "print(df)\n",
    "\n",
    "# drop=df.drop('B',axis=1)\n",
    "# print(drop)\n",
    "drop=df.drop('B',axis=1,inplace=True)\n",
    "print(df)\n"
   ]
  }
 ],
 "metadata": {
  "kernelspec": {
   "display_name": "Python 3",
   "language": "python",
   "name": "python3"
  },
  "language_info": {
   "codemirror_mode": {
    "name": "ipython",
    "version": 3
   },
   "file_extension": ".py",
   "mimetype": "text/x-python",
   "name": "python",
   "nbconvert_exporter": "python",
   "pygments_lexer": "ipython3",
   "version": "3.13.0"
  }
 },
 "nbformat": 4,
 "nbformat_minor": 2
}
