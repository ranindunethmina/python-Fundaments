{
 "cells": [
  {
   "cell_type": "code",
   "execution_count": 20,
   "metadata": {},
   "outputs": [
    {
     "name": "stdout",
     "output_type": "stream",
     "text": [
      "{'latitude': 51.5, 'longitude': -0.120000124, 'generationtime_ms': 0.03898143768310547, 'utc_offset_seconds': 0, 'timezone': 'GMT', 'timezone_abbreviation': 'GMT', 'elevation': 16.0, 'current_units': {'time': 'iso8601', 'interval': 'seconds', 'temperature_2m': '°C', 'wind_speed_10m': 'km/h'}, 'current': {'time': '2025-01-09T09:30', 'interval': 900, 'temperature_2m': 0.8, 'wind_speed_10m': 6.8}}\n"
     ]
    }
   ],
   "source": [
    "import requests\n",
    "\n",
    "base_url = 'https://api.open-meteo.com/v1/forecast'\n",
    "paramsList = {\n",
    "    'latitude' :51.5074,\n",
    "    'longitude':-0.1278,\n",
    "    'current':'temperature_2m,wind_speed_10m'\n",
    "}\n",
    "\n",
    "response = requests.get(base_url , params=paramsList)\n",
    "if( response.status_code == 200 ) :\n",
    "    if( \"application/json\" in response.headers.get('Content-Type')):\n",
    "        data = response.json()\n",
    "        print(data)\n",
    "    else :\n",
    "        print('content type not match')\n",
    "else:\n",
    "    print('Error some thing Occured')"
   ]
  },
  {
   "cell_type": "code",
   "execution_count": null,
   "metadata": {},
   "outputs": [
    {
     "name": "stdout",
     "output_type": "stream",
     "text": [
      "Success\n",
      "{'latitude': 51.5, 'longitude': 0.119999886, 'generationtime_ms': 0.031948089599609375, 'utc_offset_seconds': 0, 'timezone': 'GMT', 'timezone_abbreviation': 'GMT', 'elevation': 3.0, 'current_units': {'time': 'iso8601', 'interval': 'seconds', 'temperature_2m': '°C', 'wind_speed_10m': 'km/h'}, 'current': {'time': '2025-01-09T09:00', 'interval': 900, 'temperature_2m': 0.6, 'wind_speed_10m': 7.9}}\n"
     ]
    }
   ],
   "source": [
    "import requests\n",
    "\n",
    "base_url = 'https://api.open-meteo.com/v1/forecast'\n",
    "def fetch_weather_data(latitude,longitude,current_info):\n",
    "    params = {\n",
    "        'latitude' :latitude,\n",
    "        'longitude':-longitude,\n",
    "        'current': current_info\n",
    "    }\n",
    "\n",
    "    response =requests.get(base_url, params= params)\n",
    "    if(response.status_code == 200) :\n",
    "        print(\"Success\")\n",
    "        return response.json()\n",
    "    else : \n",
    "        print(\"Some error happened while fetch the page\",response.status_code)\n",
    "        return \"None\"\n",
    "    \n",
    "current_info = 'temperature_2m,wind_speed_10m'\n",
    "weather_data = fetch_weather_data(51.5074, -0.1278, (current_info))\n",
    "print(weather_data)"
   ]
  },
  {
   "cell_type": "code",
   "execution_count": 17,
   "metadata": {},
   "outputs": [
    {
     "name": "stdout",
     "output_type": "stream",
     "text": [
      "Success\n",
      "{'latitude': 6.875, 'longitude': -81.0, 'generationtime_ms': 1.0238885879516602, 'utc_offset_seconds': 0, 'timezone': 'GMT', 'timezone_abbreviation': 'GMT', 'elevation': 0.0, 'current_units': {'time': 'iso8601', 'interval': 'seconds', 'temperature_2m': '°C', 'wind_speed_10m': 'km/h'}, 'current': {'time': '2025-01-09T09:30', 'interval': 900, 'temperature_2m': 26.5, 'wind_speed_10m': 14.8}}\n",
      "26.5 °C 14.8 km/h\n"
     ]
    }
   ],
   "source": [
    "import requests\n",
    "\n",
    "base_url = 'https://api.open-meteo.com/v1/forecast'\n",
    "def fetch_weather_data(latitude,longitude,current_info):\n",
    "    params = {\n",
    "        'latitude' :latitude,\n",
    "        'longitude':-longitude,\n",
    "        'current': current_info\n",
    "    }\n",
    "\n",
    "    response =requests.get(base_url, params= params)\n",
    "    if(response.status_code == 200) :\n",
    "        print(\"Success\")\n",
    "        return response.json()\n",
    "    else : \n",
    "        print(\"Some error happened while fetch the page\",response.status_code)\n",
    "        return \"None\"\n",
    "    \n",
    "current_info = 'temperature_2m,wind_speed_10m'\n",
    "weather_data = fetch_weather_data(6.8667, 81.0466, (current_info))\n",
    "print(weather_data)\n",
    "\n",
    "def current_weather_information(weather_data):\n",
    "    print(weather_data['current']['temperature_2m'] , weather_data['current_units']['temperature_2m'],  weather_data['current']['wind_speed_10m'] , weather_data['current_units']['wind_speed_10m'])\n",
    "\n",
    "current_weather_information(weather_data)\n"
   ]
  }
 ],
 "metadata": {
  "kernelspec": {
   "display_name": "Python 3",
   "language": "python",
   "name": "python3"
  },
  "language_info": {
   "codemirror_mode": {
    "name": "ipython",
    "version": 3
   },
   "file_extension": ".py",
   "mimetype": "text/x-python",
   "name": "python",
   "nbconvert_exporter": "python",
   "pygments_lexer": "ipython3",
   "version": "3.13.0"
  }
 },
 "nbformat": 4,
 "nbformat_minor": 2
}
