{
 "cells": [
  {
   "cell_type": "code",
   "execution_count": 1,
   "metadata": {},
   "outputs": [
    {
     "name": "stdout",
     "output_type": "stream",
     "text": [
      "12\n"
     ]
    }
   ],
   "source": [
    "def outer(x):\n",
    "    def inner(y):\n",
    "        return x + y\n",
    "    return inner\n",
    "temp_var = outer(5)\n",
    "print(temp_var(7))"
   ]
  },
  {
   "cell_type": "code",
   "execution_count": 2,
   "metadata": {},
   "outputs": [
    {
     "name": "stdout",
     "output_type": "stream",
     "text": [
      "10\n"
     ]
    }
   ],
   "source": [
    "def add(x, y):\n",
    "    return x+y\n",
    "def calculate (func, x, y):\n",
    "    return func(x,y)\n",
    "\n",
    "result = calculate(add,4,6)\n",
    "print(result)"
   ]
  },
  {
   "cell_type": "code",
   "execution_count": 7,
   "metadata": {},
   "outputs": [
    {
     "name": "stdout",
     "output_type": "stream",
     "text": [
      "I got decorated\n",
      "I am ordinary\n"
     ]
    }
   ],
   "source": [
    "def make_pretty(func):\n",
    "    def inner():\n",
    "        print(\"I got decorated\")\n",
    "        func()\n",
    "    return inner\n",
    "\n",
    "@make_pretty\n",
    "def ordinary():\n",
    "    print(\"I am ordinary\")\n",
    "\n",
    "# decorate_func = make_pretty(ordinary)\n",
    "# decorate_func()\n",
    "ordinary()"
   ]
  },
  {
   "cell_type": "code",
   "execution_count": 9,
   "metadata": {},
   "outputs": [
    {
     "name": "stdout",
     "output_type": "stream",
     "text": [
      "None\n",
      "Input must be a positive number.\n",
      "None\n"
     ]
    }
   ],
   "source": [
    "# create a decorator check positive that , \n",
    "#     checks input your function is a positive number\n",
    "#     if the input is not positive print a message\"input not be a positive number\"\n",
    "#     use this decorator on a function calculate_square_root that\n",
    "#         1.\n",
    "#         2.return the square root of the input number\n",
    "\n",
    "import math\n",
    "def check_positive(func):\n",
    "    def wrapper(number):\n",
    "        if number <= 0:\n",
    "            print(\"Input must be a positive number.\")\n",
    "        else:    \n",
    "            func(number)\n",
    "    return wrapper\n",
    "\n",
    "@check_positive\n",
    "def calculate_square_root(num):\n",
    "    return math.sqrt(num)\n",
    "\n",
    "print(calculate_square_root(16))\n",
    "print(calculate_square_root(-4))"
   ]
  }
 ],
 "metadata": {
  "kernelspec": {
   "display_name": "Python 3",
   "language": "python",
   "name": "python3"
  },
  "language_info": {
   "codemirror_mode": {
    "name": "ipython",
    "version": 3
   },
   "file_extension": ".py",
   "mimetype": "text/x-python",
   "name": "python",
   "nbconvert_exporter": "python",
   "pygments_lexer": "ipython3",
   "version": "3.13.0"
  }
 },
 "nbformat": 4,
 "nbformat_minor": 2
}
