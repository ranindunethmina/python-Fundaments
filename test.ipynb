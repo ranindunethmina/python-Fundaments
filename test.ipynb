{
 "cells": [
  {
   "cell_type": "code",
   "execution_count": 12,
   "metadata": {},
   "outputs": [
    {
     "name": "stdout",
     "output_type": "stream",
     "text": [
      "Hello world\n"
     ]
    }
   ],
   "source": [
    "print(\"Hello world\")"
   ]
  },
  {
   "cell_type": "code",
   "execution_count": 13,
   "metadata": {},
   "outputs": [
    {
     "name": "stdout",
     "output_type": "stream",
     "text": [
      "10\n",
      "<class 'int'>\n",
      "10 <class 'int'>\n",
      "The type of variable having value 10 is <class 'int'>\n"
     ]
    }
   ],
   "source": [
    "a= 10\n",
    "print(a)\n",
    "print(type(a))\n",
    "print(a, type(a))\n",
    "print(\"The type of variable having value\", a, \"is\", type(a))"
   ]
  },
  {
   "cell_type": "code",
   "execution_count": 14,
   "metadata": {},
   "outputs": [
    {
     "name": "stdout",
     "output_type": "stream",
     "text": [
      "25000.0 <class 'float'>\n"
     ]
    }
   ],
   "source": [
    "a=2.5e4\n",
    "print(a,type(a))"
   ]
  },
  {
   "cell_type": "code",
   "execution_count": 17,
   "metadata": {},
   "outputs": [
    {
     "name": "stdout",
     "output_type": "stream",
     "text": [
      "5 5.0 <class 'float'>\n"
     ]
    }
   ],
   "source": [
    "a=5\n",
    "b= float(a)\n",
    "print(a, b, type(b))"
   ]
  },
  {
   "cell_type": "code",
   "execution_count": 22,
   "metadata": {},
   "outputs": [
    {
     "name": "stdout",
     "output_type": "stream",
     "text": [
      "[10, 'Dog', 'cat', 20, 25, True]\n"
     ]
    }
   ],
   "source": [
    "my_list = [10, 5, \"cat\", 20, 25, True]\n",
    "my_list[1]= \"Dog\"\n",
    "print(my_list)"
   ]
  },
  {
   "cell_type": "code",
   "execution_count": 28,
   "metadata": {},
   "outputs": [
    {
     "name": "stdout",
     "output_type": "stream",
     "text": [
      "5\n",
      "True\n",
      "cat\n",
      "[5, 'cat', 'dog'] <class 'list'>\n"
     ]
    }
   ],
   "source": [
    "my_list = [10, 5, \"cat\", \"dog\", True]\n",
    "print(len(my_list))\n",
    "print(my_list[-1])\n",
    "print(my_list[-3])\n",
    "print(my_list[1:4], type(my_list[1:4]))"
   ]
  },
  {
   "cell_type": "code",
   "execution_count": 30,
   "metadata": {},
   "outputs": [
    {
     "name": "stdout",
     "output_type": "stream",
     "text": [
      "[10, 5, 'cat']\n",
      "['cat', 'dog', True]\n"
     ]
    }
   ],
   "source": [
    "my_list = [10, 5, \"cat\", \"dog\", True]\n",
    "print(my_list[:3])\n",
    "print(my_list[2:])"
   ]
  },
  {
   "cell_type": "code",
   "execution_count": null,
   "metadata": {},
   "outputs": [
    {
     "name": "stdout",
     "output_type": "stream",
     "text": [
      "[10, 'parrot', 17.0, 'dog', True]\n"
     ]
    }
   ],
   "source": [
    "my_list = [10, 5, \"cat\", \"dog\", True]\n",
    "my_list[1:3]=[\"parrot\",17.0]\n",
    "print(my_list)"
   ]
  },
  {
   "cell_type": "code",
   "execution_count": 41,
   "metadata": {},
   "outputs": [
    {
     "name": "stdout",
     "output_type": "stream",
     "text": [
      "[10, 5, 'rat', 'cat', 'dog', True, 'carrot'] 7\n"
     ]
    }
   ],
   "source": [
    "my_list = [10, 5, \"cat\", \"dog\", True]\n",
    "my_list.insert(2, \"rat\")\n",
    "my_list.append(\"carrot\")\n",
    "print(my_list, len(my_list))"
   ]
  },
  {
   "cell_type": "code",
   "execution_count": 48,
   "metadata": {},
   "outputs": [
    {
     "name": "stdout",
     "output_type": "stream",
     "text": [
      "[10, 5, 'cat', 'dog', True, 'John', 3, False] 8\n"
     ]
    }
   ],
   "source": [
    "my_list = [10, 5, \"cat\", \"dog\", True]\n",
    "my_list_1 =[\"John\", 3, False]\n",
    "my_list.extend(my_list_1)\n",
    "print(my_list, len(my_list))"
   ]
  },
  {
   "cell_type": "code",
   "execution_count": 49,
   "metadata": {},
   "outputs": [
    {
     "name": "stdout",
     "output_type": "stream",
     "text": [
      "[10, 5, 'dog', True] 4\n"
     ]
    }
   ],
   "source": [
    "my_list = [10, 5, \"cat\", \"dog\", True]\n",
    "my_list.pop(2)\n",
    "print(my_list, len(my_list))"
   ]
  },
  {
   "cell_type": "code",
   "execution_count": 56,
   "metadata": {},
   "outputs": [
    {
     "name": "stdout",
     "output_type": "stream",
     "text": [
      "[10, 5, 'dog', True] 4\n"
     ]
    },
    {
     "ename": "NameError",
     "evalue": "name 'my_list' is not defined",
     "output_type": "error",
     "traceback": [
      "\u001b[1;31m---------------------------------------------------------------------------\u001b[0m",
      "\u001b[1;31mNameError\u001b[0m                                 Traceback (most recent call last)",
      "Cell \u001b[1;32mIn[56], line 5\u001b[0m\n\u001b[0;32m      3\u001b[0m \u001b[38;5;28mprint\u001b[39m(my_list, \u001b[38;5;28mlen\u001b[39m(my_list))\n\u001b[0;32m      4\u001b[0m \u001b[38;5;28;01mdel\u001b[39;00m my_list\n\u001b[1;32m----> 5\u001b[0m \u001b[38;5;28mprint\u001b[39m(\u001b[43mmy_list\u001b[49m, \u001b[38;5;28mlen\u001b[39m(my_list))\n",
      "\u001b[1;31mNameError\u001b[0m: name 'my_list' is not defined"
     ]
    }
   ],
   "source": [
    "my_list = [10, 5, \"cat\", \"dog\", True]\n",
    "del my_list[2]\n",
    "print(my_list, len(my_list))\n",
    "del my_list\n",
    "print(my_list, len(my_list))"
   ]
  },
  {
   "cell_type": "code",
   "execution_count": 58,
   "metadata": {},
   "outputs": [
    {
     "name": "stdout",
     "output_type": "stream",
     "text": [
      "[] 0\n"
     ]
    }
   ],
   "source": [
    "my_list = [10, 5, \"cat\", \"dog\", True]\n",
    "my_list.clear()\n",
    "print(my_list, len(my_list))"
   ]
  },
  {
   "cell_type": "code",
   "execution_count": 67,
   "metadata": {},
   "outputs": [
    {
     "name": "stdout",
     "output_type": "stream",
     "text": [
      "['Grapes', 'apple', 'banana', 'orange']\n"
     ]
    }
   ],
   "source": [
    "my_list = [\"Grapes\", \"apple\", \"orange\", \"banana\"]\n",
    "my_list.sort()\n",
    "print(my_list)"
   ]
  },
  {
   "cell_type": "code",
   "execution_count": null,
   "metadata": {},
   "outputs": [],
   "source": []
  }
 ],
 "metadata": {
  "kernelspec": {
   "display_name": "Python 3",
   "language": "python",
   "name": "python3"
  },
  "language_info": {
   "codemirror_mode": {
    "name": "ipython",
    "version": 3
   },
   "file_extension": ".py",
   "mimetype": "text/x-python",
   "name": "python",
   "nbconvert_exporter": "python",
   "pygments_lexer": "ipython3",
   "version": "3.13.0"
  }
 },
 "nbformat": 4,
 "nbformat_minor": 2
}
