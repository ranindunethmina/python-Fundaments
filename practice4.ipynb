{
 "cells": [
  {
   "cell_type": "code",
   "execution_count": 5,
   "metadata": {},
   "outputs": [
    {
     "name": "stdout",
     "output_type": "stream",
     "text": [
      "(4, 5, 6, 7) <class 'tuple'>\n"
     ]
    }
   ],
   "source": [
    "# arbitrary positional arguments\n",
    "def add_numbers(*args):\n",
    "    print(args, type(args))\n",
    "add_numbers(4,5,6,7)"
   ]
  },
  {
   "cell_type": "code",
   "execution_count": 3,
   "metadata": {},
   "outputs": [
    {
     "name": "stdout",
     "output_type": "stream",
     "text": [
      "(4, 5, 6, 7) <class 'tuple'>\n",
      "4\n",
      "5\n",
      "6\n",
      "7\n"
     ]
    }
   ],
   "source": [
    "# arbitrary positional arguments excersice\n",
    "def add_numbers(*args):\n",
    "    print(args, type(args))\n",
    "    for x in args:\n",
    "        print (x)\n",
    "add_numbers(4,5,6,7)"
   ]
  },
  {
   "cell_type": "code",
   "execution_count": 32,
   "metadata": {},
   "outputs": [
    {
     "name": "stdout",
     "output_type": "stream",
     "text": [
      "Student Name : Nethmina\n",
      "Highest grade : 80\n",
      "Lowest grade : 50\n",
      "Average grade :  65.0\n",
      "Student Name : Ranindu\n",
      "No Grades Available\n"
     ]
    }
   ],
   "source": [
    "def summarize_grades(student_name, *grades):\n",
    "    print(\"Student Name :\", student_name)\n",
    "    \n",
    "    if not grades:\n",
    "        print(\"No Grades Available\")\n",
    "    else:\n",
    "        print(\"Highest grade :\", max(grades))\n",
    "        print(\"Lowest grade :\", min(grades))\n",
    "        print(\"Average grade : \", sum(grades)/len(grades))\n",
    "\n",
    "summarize_grades(\"Nethmina\",50,65,80)\n",
    "summarize_grades(\"Ranindu\")"
   ]
  },
  {
   "cell_type": "code",
   "execution_count": 44,
   "metadata": {},
   "outputs": [
    {
     "name": "stdout",
     "output_type": "stream",
     "text": [
      "{'name': 'John', 'age': 22, 'address': 'Galle'} <class 'dict'>\n",
      "key =  name value =  John\n",
      "key =  age value =  22\n",
      "key =  address value =  Galle\n"
     ]
    }
   ],
   "source": [
    "def arbitrary_keyword_arguments(**kwargs):\n",
    "    print(kwargs,type(kwargs))\n",
    "    for key, value in kwargs.items():\n",
    "        print(\"key = \", key, \"value = \", value )\n",
    "        \n",
    "arbitrary_keyword_arguments(name=\"John\", age=22, address=\"Galle\")    "
   ]
  },
  {
   "cell_type": "code",
   "execution_count": null,
   "metadata": {},
   "outputs": [
    {
     "name": "stdout",
     "output_type": "stream",
     "text": [
      "Nethmina\n",
      "age : 22\n",
      "address : Galle\n"
     ]
    },
    {
     "data": {
      "text/plain": [
       "{'name': 'Nethmina', 'age': 22, 'address': 'Galle'}"
      ]
     },
     "execution_count": 64,
     "metadata": {},
     "output_type": "execute_result"
    }
   ],
   "source": [
    "def employee_info(name, **details):\n",
    "    print(name)\n",
    "    \n",
    "    for key,value in details.items():\n",
    "        print(key, \":\", value)\n",
    "    \n",
    "    # employee_details = {\"name\" : name,**details}\n",
    "    employee_details = {\"name\" : name} | {**details}\n",
    "    return employee_details\n",
    "\n",
    "employee_info(\"Nethmina\", age=22, address=\"Galle\")    "
   ]
  },
  {
   "cell_type": "code",
   "execution_count": 73,
   "metadata": {},
   "outputs": [
    {
     "name": "stdout",
     "output_type": "stream",
     "text": [
      "<map object at 0x0000019B515A44C0> <class 'map'>\n",
      "[100, 400, 900]\n"
     ]
    }
   ],
   "source": [
    "# print(abs(-20))\n",
    "# print(abs(20))\n",
    "\n",
    "my_list = [10, 20, 30]\n",
    "\n",
    "def cal_square(a):\n",
    "    return(a*a)\n",
    "\n",
    "result = map(cal_square,my_list)\n",
    "print(result,type(result))\n",
    "print(list(result))"
   ]
  },
  {
   "cell_type": "code",
   "execution_count": null,
   "metadata": {},
   "outputs": [
    {
     "name": "stdout",
     "output_type": "stream",
     "text": [
      "[14, 11, 11, 7]\n"
     ]
    }
   ],
   "source": [
    "my_list1 = [10, 8, 5, 6]\n",
    "my_list2 = [4, 3, 6, 1]\n",
    "\n",
    "def cal_increment(a,b):\n",
    "    return(a+b)\n",
    "\n",
    "result = map(cal_increment,my_list1,my_list2)\n",
    "print(list(result))"
   ]
  },
  {
   "cell_type": "code",
   "execution_count": 8,
   "metadata": {},
   "outputs": [
    {
     "name": "stdout",
     "output_type": "stream",
     "text": [
      "[68.0, 86.0, 77.0, 104.0, 59.0]\n"
     ]
    }
   ],
   "source": [
    "my_list1 = [20, 30, 25, 40, 15]\n",
    "\n",
    "def covert_to_fehrenheit(celsius):\n",
    "    return(celsius * 9/5 +32)\n",
    "\n",
    "result = map(covert_to_fehrenheit, my_list1)\n",
    "print(list(result))"
   ]
  },
  {
   "cell_type": "code",
   "execution_count": 12,
   "metadata": {},
   "outputs": [
    {
     "name": "stdout",
     "output_type": "stream",
     "text": [
      "<filter object at 0x000001B86AB68C70> <class 'filter'>\n",
      "[8, 10, 6]\n"
     ]
    }
   ],
   "source": [
    "my_list1 = [5, 8, 10, 9, 6, 3]\n",
    "\n",
    "def check_even (x):\n",
    "    return x % 2 == 0\n",
    "\n",
    "result = filter(check_even, my_list1)\n",
    "print(result,type(result))\n",
    "print(list(result))"
   ]
  },
  {
   "cell_type": "code",
   "execution_count": null,
   "metadata": {},
   "outputs": [
    {
     "name": "stdout",
     "output_type": "stream",
     "text": [
      "7\n",
      "9\n"
     ]
    }
   ],
   "source": [
    "add = lambda  x,y : x+y\n",
    "print(add(3,4))\n",
    "\n",
    "result = (lambda  x,y : x+y) (5,4) \n",
    "print(result)"
   ]
  },
  {
   "cell_type": "code",
   "execution_count": 21,
   "metadata": {},
   "outputs": [
    {
     "name": "stdout",
     "output_type": "stream",
     "text": [
      "25\n"
     ]
    }
   ],
   "source": [
    "result = (lambda x : x**2) (5)\n",
    "print(result)"
   ]
  },
  {
   "cell_type": "code",
   "execution_count": 26,
   "metadata": {},
   "outputs": [
    {
     "name": "stdout",
     "output_type": "stream",
     "text": [
      "[('Alice', 23), ('Andrew', 25)]\n"
     ]
    }
   ],
   "source": [
    "people = [(\"Alice\",23),(\"John\",17),(\"Andrew\",25),(\"Kale\",15)]\n",
    "\n",
    "print(list(filter(lambda age : age[1] >= 18, people)))"
   ]
  },
  {
   "cell_type": "code",
   "execution_count": null,
   "metadata": {},
   "outputs": [
    {
     "name": "stdout",
     "output_type": "stream",
     "text": [
      "6\n"
     ]
    }
   ],
   "source": [
    "def my_fun(n):\n",
    "    return lambda a : a * n\n",
    "my_doubler = my_fun(2)\n",
    "# my_doubler = lambda a : a *2\n",
    "print(my_doubler(3))"
   ]
  },
  {
   "cell_type": "code",
   "execution_count": 32,
   "metadata": {},
   "outputs": [
    {
     "name": "stdout",
     "output_type": "stream",
     "text": [
      "121\n"
     ]
    }
   ],
   "source": [
    "find_max = lambda a, b : a if a>b else b\n",
    "print(find_max(121,24))"
   ]
  },
  {
   "cell_type": "code",
   "execution_count": 49,
   "metadata": {},
   "outputs": [
    {
     "name": "stdout",
     "output_type": "stream",
     "text": [
      "The factorial of 5 is 120\n"
     ]
    }
   ],
   "source": [
    "def find_factorial(num):\n",
    "    factorial = 1    \n",
    "    if num < 0:    \n",
    "     print(\" Factorial does not exist for negative numbers\")    \n",
    "    elif num == 0:    \n",
    "        print(\"The factorial of 0 is 1\")    \n",
    "    else:    \n",
    "        for i in range(1,num + 1):    \n",
    "            factorial = factorial*i    \n",
    "        print(\"The factorial of\",num,\"is\",factorial)\n",
    "find_factorial(5)"
   ]
  },
  {
   "cell_type": "code",
   "execution_count": 66,
   "metadata": {},
   "outputs": [
    {
     "data": {
      "text/plain": [
       "2424858401169875856987549316530261243529336396354700842715749979460646110058233651782392648030625575890603295838549136086203631494904372698578181999057212055535785846413969420066573092861481554378165635499319577948946469878800693106187103360224139995239288292467274991657581799887960732860730465294056429604010675825650845592134295845654185424392132561718318353026455262912039002664120813132000602020151818744862796534620281615341820385425346251471878908201301227337883132211649086124629581129201309548248991126780745470297556208250525153383428851713805456555419758707284753260768805845944423382917543868035509410367649517977378961396490420583560768554085728596839435423979501005167390976056828737759722931049053051870481354220566751757226315251920734049093559363656820097662644345104685665152444697669009659982518091310671058073959926600845011866653850725006741331610135998770449096045426206531544154144601729043078225608136613193686346346764203375001081246967670378990121777385901921245133042374777487279240176076181929206652760242551593468206588418766183401939736514661022447416367789422605988204789848476655904174023752533626768590363300938231129606313365312387913130971900390208938471907315110717317435321123464794906710193916413838207147074458529525935478113361841325520841044346267628381902449941524896332350384902526765982148700924154884023605222691782597459599121027544229955922681404443327840648118042191399221650956164672857148227101451532445295161873221075926687151309815858723796054292521542311108190618276056103071140889723197707702368244847779594197140241112042128900654662720100758519336991189420021569389659862373674109453168227154296233208845394442627758282640964050502230911632608683569869755423400072413157317525410032842653580093887735517690412593258359388487289802270353135756659547954667344672901471048389223259683469006995762263469036620522300662493285722212048473141061111827211648276284983691538501299996459350066613212712170474963890532178735800245974574640904674554123815017979113627519922145830691096868313633320304359164703825903963661604335411773033078697699311892617463175229334854531701631075383899708905233041291527887059381689504636267968336033244928031019352467588242769652345533099117594059102256248189810284600657855707971881794779733938869280438373216606816889288287015049782284899585369920877745590840887712363661997881545433844629800189205229597440143179700162824702134957418586285920953284900382720017357876988767296282790084172114532622647998154080918863914038958583660595208167281479883677535909771428614756103440615905873310606657147769597200148222567970379939256596381142850272187439045199365546037482887333248526026065549397730475314476322168067523034600032867511743419691437003992038152628324659432676263448764134014429405489180634364519282138519962363193701386950109467042340571843977537752976341094127822030600936793871334872293490903117072170466054983434825167266916722980296391441044563178977701723309785609111259614474247364528550386532388327264689711775604664427340228901835597557029992960492192464058200400988909295153551200837397817601282679220611104173652358509007521101053095620748168997861050130023817703319787079095235833374426177514286578246903083415169109359323812741314724620593271262917265094024216337214863533448529254632599541703878619604512594846124252613960262726215219134672211844311020666195270036284140614857902974771290503656870984782590335117218368984797972576852801418834170795097602013208317371156612874344638041764532057542786831351076365498540443813006372421380736034740771076764178132559828434447544678633583005046265334346831012385703067191550416222980088761154519553974935287498676582754658553261232252765802371799256016444945115393409561160793126126735836975302341046431089640850574341354122545220831810806852068691732327187184240511538962440151159519314143893886850233861037997459199145386272154940965985357257552760909210073432064000000000000000000000000000000000000000000000000000000000000000000000000000000000000000000000000000000000000000000000000000000000000000000000000000000000000000000000000000000000000000000000000000000000000000000000000000000000000000000000000000000000000000000000000000000000000000000000000000000000000000000000000000000000000000000000000000000000000000000000000000000000000000000000000000"
      ]
     },
     "execution_count": 66,
     "metadata": {},
     "output_type": "execute_result"
    }
   ],
   "source": [
    "def find_factorial(x):\n",
    "    if x == 0 or x ==1:\n",
    "        return 1\n",
    "    else:\n",
    "        return(x * find_factorial(x-1))\n",
    "find_factorial(1558)"
   ]
  },
  {
   "cell_type": "code",
   "execution_count": 70,
   "metadata": {},
   "outputs": [
    {
     "name": "stdout",
     "output_type": "stream",
     "text": [
      "38\n"
     ]
    }
   ],
   "source": [
    "my_list1 = [5, 8, 10, 9, 6]\n",
    "\n",
    "def sum_arr(my_list):\n",
    "    if not my_list:\n",
    "        return 0\n",
    "    return my_list[0] + sum_arr(my_list[1:])\n",
    "\n",
    "result = sum_arr(my_list1)\n",
    "print(result)"
   ]
  }
 ],
 "metadata": {
  "kernelspec": {
   "display_name": "Python 3",
   "language": "python",
   "name": "python3"
  },
  "language_info": {
   "codemirror_mode": {
    "name": "ipython",
    "version": 3
   },
   "file_extension": ".py",
   "mimetype": "text/x-python",
   "name": "python",
   "nbconvert_exporter": "python",
   "pygments_lexer": "ipython3",
   "version": "3.13.0"
  }
 },
 "nbformat": 4,
 "nbformat_minor": 2
}
