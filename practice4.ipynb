{
 "cells": [
  {
   "cell_type": "code",
   "execution_count": 5,
   "metadata": {},
   "outputs": [
    {
     "name": "stdout",
     "output_type": "stream",
     "text": [
      "(4, 5, 6, 7) <class 'tuple'>\n"
     ]
    }
   ],
   "source": [
    "# arbitrary positional arguments\n",
    "def add_numbers(*args):\n",
    "    print(args, type(args))\n",
    "add_numbers(4,5,6,7)"
   ]
  },
  {
   "cell_type": "code",
   "execution_count": 3,
   "metadata": {},
   "outputs": [
    {
     "name": "stdout",
     "output_type": "stream",
     "text": [
      "(4, 5, 6, 7) <class 'tuple'>\n",
      "4\n",
      "5\n",
      "6\n",
      "7\n"
     ]
    }
   ],
   "source": [
    "# arbitrary positional arguments excersice\n",
    "def add_numbers(*args):\n",
    "    print(args, type(args))\n",
    "    for x in args:\n",
    "        print (x)\n",
    "add_numbers(4,5,6,7)"
   ]
  },
  {
   "cell_type": "code",
   "execution_count": 32,
   "metadata": {},
   "outputs": [
    {
     "name": "stdout",
     "output_type": "stream",
     "text": [
      "Student Name : Nethmina\n",
      "Highest grade : 80\n",
      "Lowest grade : 50\n",
      "Average grade :  65.0\n",
      "Student Name : Ranindu\n",
      "No Grades Available\n"
     ]
    }
   ],
   "source": [
    "def summarize_grades(student_name, *grades):\n",
    "    print(\"Student Name :\", student_name)\n",
    "    \n",
    "    if not grades:\n",
    "        print(\"No Grades Available\")\n",
    "    else:\n",
    "        print(\"Highest grade :\", max(grades))\n",
    "        print(\"Lowest grade :\", min(grades))\n",
    "        print(\"Average grade : \", sum(grades)/len(grades))\n",
    "\n",
    "summarize_grades(\"Nethmina\",50,65,80)\n",
    "summarize_grades(\"Ranindu\")"
   ]
  },
  {
   "cell_type": "code",
   "execution_count": 44,
   "metadata": {},
   "outputs": [
    {
     "name": "stdout",
     "output_type": "stream",
     "text": [
      "{'name': 'John', 'age': 22, 'address': 'Galle'} <class 'dict'>\n",
      "key =  name value =  John\n",
      "key =  age value =  22\n",
      "key =  address value =  Galle\n"
     ]
    }
   ],
   "source": [
    "def arbitrary_keyword_arguments(**kwargs):\n",
    "    print(kwargs,type(kwargs))\n",
    "    for key, value in kwargs.items():\n",
    "        print(\"key = \", key, \"value = \", value )\n",
    "        \n",
    "arbitrary_keyword_arguments(name=\"John\", age=22, address=\"Galle\")    "
   ]
  },
  {
   "cell_type": "code",
   "execution_count": null,
   "metadata": {},
   "outputs": [
    {
     "name": "stdout",
     "output_type": "stream",
     "text": [
      "Nethmina\n",
      "age : 22\n",
      "address : Galle\n"
     ]
    },
    {
     "data": {
      "text/plain": [
       "{'name': 'Nethmina', 'age': 22, 'address': 'Galle'}"
      ]
     },
     "execution_count": 64,
     "metadata": {},
     "output_type": "execute_result"
    }
   ],
   "source": [
    "def employee_info(name, **details):\n",
    "    print(name)\n",
    "    \n",
    "    for key,value in details.items():\n",
    "        print(key, \":\", value)\n",
    "    \n",
    "    # employee_details = {\"name\" : name,**details}\n",
    "    employee_details = {\"name\" : name} | {**details}\n",
    "    return employee_details\n",
    "\n",
    "employee_info(\"Nethmina\", age=22, address=\"Galle\")    "
   ]
  },
  {
   "cell_type": "code",
   "execution_count": 73,
   "metadata": {},
   "outputs": [
    {
     "name": "stdout",
     "output_type": "stream",
     "text": [
      "<map object at 0x0000019B515A44C0> <class 'map'>\n",
      "[100, 400, 900]\n"
     ]
    }
   ],
   "source": [
    "# print(abs(-20))\n",
    "# print(abs(20))\n",
    "\n",
    "my_list = [10, 20, 30]\n",
    "\n",
    "def cal_square(a):\n",
    "    return(a*a)\n",
    "\n",
    "result = map(cal_square,my_list)\n",
    "print(result,type(result))\n",
    "print(list(result))"
   ]
  },
  {
   "cell_type": "code",
   "execution_count": null,
   "metadata": {},
   "outputs": [
    {
     "name": "stdout",
     "output_type": "stream",
     "text": [
      "[14, 11, 11, 7]\n"
     ]
    }
   ],
   "source": [
    "my_list1 = [10, 8, 5, 6]\n",
    "my_list2 = [4, 3, 6, 1]\n",
    "\n",
    "def cal_increment(a,b):\n",
    "    return(a+b)\n",
    "\n",
    "result = map(cal_increment,my_list1,my_list2)\n",
    "print(list(result))"
   ]
  },
  {
   "cell_type": "code",
   "execution_count": 8,
   "metadata": {},
   "outputs": [
    {
     "name": "stdout",
     "output_type": "stream",
     "text": [
      "[68.0, 86.0, 77.0, 104.0, 59.0]\n"
     ]
    }
   ],
   "source": [
    "my_list1 = [20, 30, 25, 40, 15]\n",
    "\n",
    "def covert_to_fehrenheit(celsius):\n",
    "    return(celsius * 9/5 +32)\n",
    "\n",
    "result = map(covert_to_fehrenheit, my_list1)\n",
    "print(list(result))"
   ]
  },
  {
   "cell_type": "code",
   "execution_count": 12,
   "metadata": {},
   "outputs": [
    {
     "name": "stdout",
     "output_type": "stream",
     "text": [
      "<filter object at 0x000001B86AB68C70> <class 'filter'>\n",
      "[8, 10, 6]\n"
     ]
    }
   ],
   "source": [
    "my_list1 = [5, 8, 10, 9, 6, 3]\n",
    "\n",
    "def check_even (x):\n",
    "    return x % 2 == 0\n",
    "\n",
    "result = filter(check_even, my_list1)\n",
    "print(result,type(result))\n",
    "print(list(result))"
   ]
  },
  {
   "cell_type": "code",
   "execution_count": null,
   "metadata": {},
   "outputs": [
    {
     "name": "stdout",
     "output_type": "stream",
     "text": [
      "7\n",
      "9\n"
     ]
    }
   ],
   "source": [
    "add = lambda  x,y : x+y\n",
    "print(add(3,4))\n",
    "\n",
    "result = (lambda  x,y : x+y) (5,4) \n",
    "print(result)"
   ]
  },
  {
   "cell_type": "code",
   "execution_count": 21,
   "metadata": {},
   "outputs": [
    {
     "name": "stdout",
     "output_type": "stream",
     "text": [
      "25\n"
     ]
    }
   ],
   "source": [
    "result = (lambda x : x**2) (5)\n",
    "print(result)"
   ]
  },
  {
   "cell_type": "code",
   "execution_count": 26,
   "metadata": {},
   "outputs": [
    {
     "name": "stdout",
     "output_type": "stream",
     "text": [
      "[('Alice', 23), ('Andrew', 25)]\n"
     ]
    }
   ],
   "source": [
    "people = [(\"Alice\",23),(\"John\",17),(\"Andrew\",25),(\"Kale\",15)]\n",
    "\n",
    "print(list(filter(lambda age : age[1] >= 18, people)))"
   ]
  },
  {
   "cell_type": "code",
   "execution_count": null,
   "metadata": {},
   "outputs": [
    {
     "name": "stdout",
     "output_type": "stream",
     "text": [
      "6\n"
     ]
    }
   ],
   "source": [
    "def my_fun(n):\n",
    "    return lambda a : a * n\n",
    "my_doubler = my_fun(2)\n",
    "# my_doubler = lambda a : a *2\n",
    "print(my_doubler(3))"
   ]
  },
  {
   "cell_type": "code",
   "execution_count": 32,
   "metadata": {},
   "outputs": [
    {
     "name": "stdout",
     "output_type": "stream",
     "text": [
      "121\n"
     ]
    }
   ],
   "source": [
    "find_max = lambda a, b : a if a>b else b\n",
    "print(find_max(121,24))"
   ]
  }
 ],
 "metadata": {
  "kernelspec": {
   "display_name": "Python 3",
   "language": "python",
   "name": "python3"
  },
  "language_info": {
   "codemirror_mode": {
    "name": "ipython",
    "version": 3
   },
   "file_extension": ".py",
   "mimetype": "text/x-python",
   "name": "python",
   "nbconvert_exporter": "python",
   "pygments_lexer": "ipython3",
   "version": "3.13.0"
  }
 },
 "nbformat": 4,
 "nbformat_minor": 2
}
