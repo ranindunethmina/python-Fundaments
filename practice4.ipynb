{
 "cells": [
  {
   "cell_type": "code",
   "execution_count": 5,
   "metadata": {},
   "outputs": [
    {
     "name": "stdout",
     "output_type": "stream",
     "text": [
      "(4, 5, 6, 7) <class 'tuple'>\n"
     ]
    }
   ],
   "source": [
    "# arbitrary positional arguments\n",
    "def add_numbers(*args):\n",
    "    print(args, type(args))\n",
    "add_numbers(4,5,6,7)"
   ]
  },
  {
   "cell_type": "code",
   "execution_count": 3,
   "metadata": {},
   "outputs": [
    {
     "name": "stdout",
     "output_type": "stream",
     "text": [
      "(4, 5, 6, 7) <class 'tuple'>\n",
      "4\n",
      "5\n",
      "6\n",
      "7\n"
     ]
    }
   ],
   "source": [
    "# arbitrary positional arguments excersice\n",
    "def add_numbers(*args):\n",
    "    print(args, type(args))\n",
    "    for x in args:\n",
    "        print (x)\n",
    "add_numbers(4,5,6,7)"
   ]
  },
  {
   "cell_type": "code",
   "execution_count": 32,
   "metadata": {},
   "outputs": [
    {
     "name": "stdout",
     "output_type": "stream",
     "text": [
      "Student Name : Nethmina\n",
      "Highest grade : 80\n",
      "Lowest grade : 50\n",
      "Average grade :  65.0\n",
      "Student Name : Ranindu\n",
      "No Grades Available\n"
     ]
    }
   ],
   "source": [
    "def summarize_grades(student_name, *grades):\n",
    "    print(\"Student Name :\", student_name)\n",
    "    \n",
    "    if not grades:\n",
    "        print(\"No Grades Available\")\n",
    "    else:\n",
    "        print(\"Highest grade :\", max(grades))\n",
    "        print(\"Lowest grade :\", min(grades))\n",
    "        print(\"Average grade : \", sum(grades)/len(grades))\n",
    "\n",
    "summarize_grades(\"Nethmina\",50,65,80)\n",
    "summarize_grades(\"Ranindu\")"
   ]
  },
  {
   "cell_type": "code",
   "execution_count": 44,
   "metadata": {},
   "outputs": [
    {
     "name": "stdout",
     "output_type": "stream",
     "text": [
      "{'name': 'John', 'age': 22, 'address': 'Galle'} <class 'dict'>\n",
      "key =  name value =  John\n",
      "key =  age value =  22\n",
      "key =  address value =  Galle\n"
     ]
    }
   ],
   "source": [
    "def arbitrary_keyword_arguments(**kwargs):\n",
    "    print(kwargs,type(kwargs))\n",
    "    for key, value in kwargs.items():\n",
    "        print(\"key = \", key, \"value = \", value )\n",
    "        \n",
    "arbitrary_keyword_arguments(name=\"John\", age=22, address=\"Galle\")    "
   ]
  },
  {
   "cell_type": "code",
   "execution_count": null,
   "metadata": {},
   "outputs": [
    {
     "name": "stdout",
     "output_type": "stream",
     "text": [
      "Nethmina\n",
      "age : 22\n",
      "address : Galle\n"
     ]
    },
    {
     "data": {
      "text/plain": [
       "{'name': 'Nethmina', 'age': 22, 'address': 'Galle'}"
      ]
     },
     "execution_count": 64,
     "metadata": {},
     "output_type": "execute_result"
    }
   ],
   "source": [
    "def employee_info(name, **details):\n",
    "    print(name)\n",
    "    \n",
    "    for key,value in details.items():\n",
    "        print(key, \":\", value)\n",
    "    \n",
    "    # employee_details = {\"name\" : name,**details}\n",
    "    employee_details = {\"name\" : name} | {**details}\n",
    "    return employee_details\n",
    "\n",
    "employee_info(\"Nethmina\", age=22, address=\"Galle\")    "
   ]
  }
 ],
 "metadata": {
  "kernelspec": {
   "display_name": "Python 3",
   "language": "python",
   "name": "python3"
  },
  "language_info": {
   "codemirror_mode": {
    "name": "ipython",
    "version": 3
   },
   "file_extension": ".py",
   "mimetype": "text/x-python",
   "name": "python",
   "nbconvert_exporter": "python",
   "pygments_lexer": "ipython3",
   "version": "3.13.0"
  }
 },
 "nbformat": 4,
 "nbformat_minor": 2
}
