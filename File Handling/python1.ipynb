{
 "cells": [
  {
   "cell_type": "code",
   "execution_count": null,
   "metadata": {},
   "outputs": [
    {
     "name": "stdout",
     "output_type": "stream",
     "text": [
      "['Alice', 'Charlie']\n"
     ]
    }
   ],
   "source": [
    "import json\n",
    "\n",
    "with open(\"students.json\",'r') as exercise_file:\n",
    "    data = json.load(exercise_file)\n",
    "\n",
    "namelist = []\n",
    "for student in data:\n",
    "    if student['grade'] >=75 :\n",
    "        namelist.append(student[\"name\"])\n",
    "\n",
    "print(namelist)\n",
    "\n",
    "#add new Record\n",
    "data.append({\"name\":\"Kasun\",\"grade\":88})\n",
    "\n",
    "\n",
    "def add_student():\n",
    "    with open(\"students.json\",'w') as write_file:\n",
    "        json_data = json.dumps(data,indent=6)\n",
    "        write_file.write(json_data)\n",
    "        \n",
    "add_student()"
   ]
  },
  {
   "cell_type": "code",
   "execution_count": null,
   "metadata": {},
   "outputs": [
    {
     "name": "stdout",
     "output_type": "stream",
     "text": [
      "[{'name': 'Alice', 'grade': 85}, {'name': 'Bob', 'grade': 72}, {'name': 'Charlie', 'grade': 90}, {'name': 'David', 'grade': 65}] <class 'list'>\n",
      "Alice\n",
      "Charlie\n"
     ]
    },
    {
     "ename": "AttributeError",
     "evalue": "'list' object has no attribute 'appned'",
     "output_type": "error",
     "traceback": [
      "\u001b[1;31m---------------------------------------------------------------------------\u001b[0m",
      "\u001b[1;31mAttributeError\u001b[0m                            Traceback (most recent call last)",
      "Cell \u001b[1;32mIn[38], line 16\u001b[0m\n\u001b[0;32m     13\u001b[0m grade \u001b[38;5;241m=\u001b[39m \u001b[38;5;28mint\u001b[39m(\u001b[38;5;28minput\u001b[39m(\u001b[38;5;124m\"\u001b[39m\u001b[38;5;124mEnter student grade: \u001b[39m\u001b[38;5;124m\"\u001b[39m))\n\u001b[0;32m     15\u001b[0m new_record \u001b[38;5;241m=\u001b[39m {\u001b[38;5;124m\"\u001b[39m\u001b[38;5;124mname\u001b[39m\u001b[38;5;124m\"\u001b[39m: name, \u001b[38;5;124m\"\u001b[39m\u001b[38;5;124mgrade\u001b[39m\u001b[38;5;124m\"\u001b[39m: grade}\n\u001b[1;32m---> 16\u001b[0m \u001b[43mdata\u001b[49m\u001b[38;5;241;43m.\u001b[39;49m\u001b[43mappned\u001b[49m(new_record)\n\u001b[0;32m     17\u001b[0m \u001b[38;5;28;01mwith\u001b[39;00m \u001b[38;5;28mopen\u001b[39m(json_file_path, \u001b[38;5;124m\"\u001b[39m\u001b[38;5;124mw\u001b[39m\u001b[38;5;124m\"\u001b[39m) \u001b[38;5;28;01mas\u001b[39;00m file:\n\u001b[0;32m     18\u001b[0m     content \u001b[38;5;241m=\u001b[39m json\u001b[38;5;241m.\u001b[39mdumps(data, indent\u001b[38;5;241m=\u001b[39m\u001b[38;5;241m4\u001b[39m)\n",
      "\u001b[1;31mAttributeError\u001b[0m: 'list' object has no attribute 'appned'"
     ]
    }
   ],
   "source": [
    "# import json\n",
    "\n",
    "# json_file_path = \"students.json\"\n",
    "\n",
    "# with open(json_file_path, 'r') as file:\n",
    "#     data = json.load(file)\n",
    "#     print(data,type(data))\n",
    "#     for student in data:\n",
    "#         if student[\"grade\"] >75:\n",
    "#             print(student[\"name\"])\n",
    "\n",
    "# name = input(\"Enter student name: \")\n",
    "# grade = int(input(\"Enter student grade: \"))\n",
    "\n",
    "# new_record = {\"name\": name, \"grade\": grade}\n",
    "# data.appned(new_record)\n",
    "# with open(json_file_path, \"w\") as file:\n",
    "#     content = json.dumps(data, indent=4)\n",
    "#     file.write(content)\n",
    "    "
   ]
  },
  {
   "cell_type": "code",
   "execution_count": 10,
   "metadata": {},
   "outputs": [],
   "source": [
    "import json\n",
    "data = {\n",
    "    \"name\": \"nethmina\",\n",
    "    \"age\": \"20\",\n",
    "    \"city\": \"galle\"\n",
    "}\n",
    "with open(\"my_file_json.json\", 'w') as file:\n",
    "    json_data = json.dumps(data, indent= 4) #indent file eka left margin(lassana krnna)\n",
    "    file.write(json_data)"
   ]
  },
  {
   "cell_type": "code",
   "execution_count": 7,
   "metadata": {},
   "outputs": [
    {
     "name": "stdout",
     "output_type": "stream",
     "text": [
      "fruit Apple\n",
      "size Large\n",
      "color Red\n"
     ]
    }
   ],
   "source": [
    "import json\n",
    "\n",
    "json_file_path = \"example_1.json\"\n",
    "\n",
    "with open(json_file_path, 'r') as file:\n",
    "    data = json.load(file)\n",
    "for key, value in data.items():\n",
    "    print(key, value)"
   ]
  },
  {
   "cell_type": "code",
   "execution_count": null,
   "metadata": {},
   "outputs": [
    {
     "name": "stdout",
     "output_type": "stream",
     "text": [
      "{'fruit': 'Apple', 'size': 'Large', 'color': 'Red'} <class 'dict'>\n"
     ]
    }
   ],
   "source": [
    "import json\n",
    "\n",
    "json_file_path = \"example_1.json\"\n",
    "\n",
    "with open(json_file_path, 'r') as file:\n",
    "    data = json.load(file)\n",
    "print(data,type(data))"
   ]
  }
 ],
 "metadata": {
  "kernelspec": {
   "display_name": "Python 3",
   "language": "python",
   "name": "python3"
  },
  "language_info": {
   "codemirror_mode": {
    "name": "ipython",
    "version": 3
   },
   "file_extension": ".py",
   "mimetype": "text/x-python",
   "name": "python",
   "nbconvert_exporter": "python",
   "pygments_lexer": "ipython3",
   "version": "3.13.0"
  }
 },
 "nbformat": 4,
 "nbformat_minor": 2
}
