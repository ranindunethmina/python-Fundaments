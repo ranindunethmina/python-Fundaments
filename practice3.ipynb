{
 "cells": [
  {
   "cell_type": "code",
   "execution_count": null,
   "metadata": {},
   "outputs": [
    {
     "name": "stdout",
     "output_type": "stream",
     "text": [
      "Something else\n"
     ]
    }
   ],
   "source": [
    "response_code = 203\n",
    "\n",
    "match response_code:\n",
    "    case 200:\n",
    "        print(\"OK\")\n",
    "    case 201:\n",
    "        print(\"Created\")\n",
    "    case 404:\n",
    "        print(\"Not Found\")\n",
    "    case 500:\n",
    "        print(\"Internal server Error\")\n",
    "    case _:\n",
    "        print(\"Something else\")                "
   ]
  },
  {
   "cell_type": "code",
   "execution_count": 15,
   "metadata": {},
   "outputs": [
    {
     "name": "stdout",
     "output_type": "stream",
     "text": [
      "14\n"
     ]
    }
   ],
   "source": [
    "numbers = [4, 3, 7]\n",
    "match numbers:\n",
    "    case[x, y]:\n",
    "        print(x*y)\n",
    "    case[x, y, z]:\n",
    "        print(x+ y+ z)\n",
    "    case _:\n",
    "        print(\"The list does not contain\")        \n"
   ]
  },
  {
   "cell_type": "code",
   "execution_count": 24,
   "metadata": {},
   "outputs": [
    {
     "name": "stdout",
     "output_type": "stream",
     "text": [
      "Something Else\n"
     ]
    }
   ],
   "source": [
    "task = [1, 3, 5]\n",
    "lenght = len(task)\n",
    "\n",
    "match lenght:\n",
    "    case 0:\n",
    "        print(\"empty\")\n",
    "    case 1:\n",
    "        print(\"Has One Element\")  \n",
    "    case 2:\n",
    "        print(\"Has two Element\")\n",
    "    case _:\n",
    "        print(\"Something Else\")         \n",
    "\n",
    "# check_length = [4,3]\n",
    "# match check_length:\n",
    "#   case  []:\n",
    "#     print(\"empty\")\n",
    "#   case [x]:\n",
    "#     print(\"1 element\")\n",
    "#   case [x,y]:\n",
    "#     print(\"2 element\")  \n",
    "#   case _:\n",
    "#     print(\"Out of check\")        "
   ]
  },
  {
   "cell_type": "code",
   "execution_count": 28,
   "metadata": {},
   "outputs": [
    {
     "name": "stdout",
     "output_type": "stream",
     "text": [
      "apple\n",
      "banana\n",
      "orange\n"
     ]
    }
   ],
   "source": [
    "fruits = [\"apple\", \"banana\", \"orange\"]\n",
    "for fruit in fruits:\n",
    "    print(fruit)"
   ]
  },
  {
   "cell_type": "code",
   "execution_count": 32,
   "metadata": {},
   "outputs": [
    {
     "name": "stdout",
     "output_type": "stream",
     "text": [
      "[49, 25, 64, 16, 81, 144]\n"
     ]
    }
   ],
   "source": [
    "numbers = [7, 5, 8, 4, 9, 12]\n",
    "squared_numbers = []\n",
    "for num in numbers:\n",
    "    squared_numbers.append(num ** 2)\n",
    "print(squared_numbers)\n",
    "    "
   ]
  },
  {
   "cell_type": "code",
   "execution_count": 33,
   "metadata": {},
   "outputs": [
    {
     "name": "stdout",
     "output_type": "stream",
     "text": [
      "[49, 25, 64, 16, 81, 144]\n"
     ]
    }
   ],
   "source": [
    "numbers = [7, 5, 8, 4, 9, 12]\n",
    "squared_numbers = [num * num for num in numbers]\n",
    "print(squared_numbers)\n"
   ]
  },
  {
   "cell_type": "code",
   "execution_count": 37,
   "metadata": {},
   "outputs": [
    {
     "name": "stdout",
     "output_type": "stream",
     "text": [
      "[1, 4, 9, 16]\n"
     ]
    }
   ],
   "source": [
    "check_num = int(input(\"Enter the Number\"))\n",
    "squared_numbers = []\n",
    "\n",
    "for number in range(1, check_num+1):\n",
    "    squared_numbers.append(number ** 2)\n",
    "print(squared_numbers)    "
   ]
  },
  {
   "cell_type": "code",
   "execution_count": 38,
   "metadata": {},
   "outputs": [
    {
     "name": "stdout",
     "output_type": "stream",
     "text": [
      "[4, 144, 81, 64]\n"
     ]
    }
   ],
   "source": [
    "numbers = [2, 12, 9, 8]\n",
    "result = [num * num for num in numbers]\n",
    "print (result)"
   ]
  },
  {
   "cell_type": "code",
   "execution_count": 41,
   "metadata": {},
   "outputs": [
    {
     "name": "stdout",
     "output_type": "stream",
     "text": [
      "[64, 144, 25, 16]\n"
     ]
    }
   ],
   "source": [
    "numbers = [8, 12, -1, 5, 4, 0, -3]\n",
    "\n",
    "result = [num * num for num in numbers if num > 0]\n",
    "print (result)"
   ]
  },
  {
   "cell_type": "code",
   "execution_count": 50,
   "metadata": {},
   "outputs": [
    {
     "name": "stdout",
     "output_type": "stream",
     "text": [
      "[1, 4, 9, 16]\n"
     ]
    }
   ],
   "source": [
    "check_num = int(input(\"Enter the Number\"))\n",
    "result =[]\n",
    "x=1\n",
    "\n",
    "while x**2 <= check_num:\n",
    "    result.append(x**2)\n",
    "    x+=1\n",
    "print(result)"
   ]
  },
  {
   "cell_type": "code",
   "execution_count": 53,
   "metadata": {},
   "outputs": [
    {
     "name": "stdout",
     "output_type": "stream",
     "text": [
      "8\n",
      "9\n",
      "3\n"
     ]
    }
   ],
   "source": [
    "my_list = [8, 9, 3, 0, 12, 15]\n",
    "for item in my_list:\n",
    "    if item ==0:\n",
    "        break\n",
    "    else:\n",
    "        print(item)\n"
   ]
  },
  {
   "cell_type": "code",
   "execution_count": 54,
   "metadata": {},
   "outputs": [
    {
     "name": "stdout",
     "output_type": "stream",
     "text": [
      "8\n",
      "9\n",
      "3\n",
      "12\n",
      "15\n"
     ]
    }
   ],
   "source": [
    "my_list = [8, 9, 3, 0, 12, 15]\n",
    "for item in my_list:\n",
    "    if item ==0:\n",
    "        continue\n",
    "    else:\n",
    "        print(item)\n"
   ]
  },
  {
   "cell_type": "code",
   "execution_count": 68,
   "metadata": {},
   "outputs": [
    {
     "name": "stdout",
     "output_type": "stream",
     "text": [
      "1\n",
      "4\n",
      "9\n"
     ]
    }
   ],
   "source": [
    "while True:\n",
    "    num = int(input(\"Enter the Number\"))\n",
    "    if num ==0:\n",
    "        break\n",
    "    else:\n",
    "        print(num *num)\n",
    "\n"
   ]
  },
  {
   "cell_type": "code",
   "execution_count": 75,
   "metadata": {},
   "outputs": [
    {
     "name": "stdout",
     "output_type": "stream",
     "text": [
      "38\n"
     ]
    }
   ],
   "source": [
    "def calculate (width, height):\n",
    "    c= 2*(width + height)\n",
    "    return c\n",
    "print(calculate (9, 10))"
   ]
  },
  {
   "cell_type": "code",
   "execution_count": 80,
   "metadata": {},
   "outputs": [
    {
     "name": "stdout",
     "output_type": "stream",
     "text": [
      "153.86\n"
     ]
    }
   ],
   "source": [
    "PI_VALUE = 3.14\n",
    "def area (radius):\n",
    "    return PI_VALUE * radius**2\n",
    "print(area(7))"
   ]
  },
  {
   "cell_type": "code",
   "execution_count": 82,
   "metadata": {},
   "outputs": [
    {
     "name": "stdout",
     "output_type": "stream",
     "text": [
      "8\n",
      "7\n"
     ]
    }
   ],
   "source": [
    "def add_numbers(a, b=5):\n",
    "    return a+ b\n",
    "print (add_numbers(3))#default argument\n",
    "print (add_numbers(3,4))"
   ]
  },
  {
   "cell_type": "markdown",
   "metadata": {},
   "source": [
    "all the argument to its right must also have default values."
   ]
  },
  {
   "cell_type": "code",
   "execution_count": 83,
   "metadata": {},
   "outputs": [
    {
     "name": "stdout",
     "output_type": "stream",
     "text": [
      "7\n"
     ]
    }
   ],
   "source": [
    "#positional argument\n",
    "def add_numbers(a, b):\n",
    "    return a+ b\n",
    "print (add_numbers(3,4))"
   ]
  },
  {
   "cell_type": "code",
   "execution_count": 84,
   "metadata": {},
   "outputs": [
    {
     "name": "stdout",
     "output_type": "stream",
     "text": [
      "7\n"
     ]
    }
   ],
   "source": [
    "#Keyword argument\n",
    "def add_numbers(a, b):\n",
    "    return a+ b\n",
    "print (add_numbers(b=3, a=4))"
   ]
  },
  {
   "cell_type": "code",
   "execution_count": null,
   "metadata": {},
   "outputs": [
    {
     "name": "stdout",
     "output_type": "stream",
     "text": [
      "264.0\n"
     ]
    }
   ],
   "source": [
    "def calculate_cost(price, quantity, discount = 0, tax =0):\n",
    "    discount_price = (price *quantity)*discount/100 \n",
    "    total_price= (price *quantity) - discount_price\n",
    "    tax_price = total_price*tax/100\n",
    "    cost = total_price + tax_price\n",
    "    return cost\n",
    "print (calculate_cost(30, 10, 20, 10))"
   ]
  },
  {
   "cell_type": "code",
   "execution_count": 94,
   "metadata": {},
   "outputs": [
    {
     "name": "stdout",
     "output_type": "stream",
     "text": [
      "264.0\n"
     ]
    }
   ],
   "source": [
    "def calculate_cost(price, quantity, discount = 0, tax =10):\n",
    "    cost = ((price *quantity) - ((price *quantity)*discount/100)) + (((price *quantity) - ((price *quantity)*discount/100))*tax/100)\n",
    "    return cost\n",
    "print (calculate_cost(30, 10, 20))"
   ]
  },
  {
   "cell_type": "code",
   "execution_count": 1,
   "metadata": {},
   "outputs": [
    {
     "name": "stdout",
     "output_type": "stream",
     "text": [
      "World\n",
      "World\n",
      "I love computer programming,\n",
      "          I am student of IJSE,\n",
      "          I live in Galle\n"
     ]
    }
   ],
   "source": [
    "print(\"World\")\n",
    "print('World')\n",
    "\n",
    "my_str = \"\"\"I love computer programming,\n",
    "          I am student of IJSE,\n",
    "          I live in Galle\"\"\"\n",
    "\n",
    "print(my_str)"
   ]
  },
  {
   "cell_type": "code",
   "execution_count": 4,
   "metadata": {},
   "outputs": [
    {
     "name": "stdout",
     "output_type": "stream",
     "text": [
      "Hello, World!\n"
     ]
    }
   ],
   "source": [
    "\"\"\"\n",
    "This is a multiline comment\n",
    "spanning multiple lines.\n",
    "It is often used for explaining\n",
    "complex logic or providing detailed notes.\n",
    "\"\"\"\n",
    "print(\"Hello, World!\")\n"
   ]
  },
  {
   "cell_type": "code",
   "execution_count": 12,
   "metadata": {},
   "outputs": [
    {
     "name": "stdout",
     "output_type": "stream",
     "text": [
      "11\n",
      "o\n",
      "llo Wo\n",
      "HELLO WORLD\n",
      "hello world\n"
     ]
    }
   ],
   "source": [
    "my_str= \"Hello World\"\n",
    "print(len(my_str))\n",
    "print(my_str[4])\n",
    "print(my_str[2:8])\n",
    "print(my_str.upper())\n",
    "print(my_str.lower())"
   ]
  },
  {
   "cell_type": "code",
   "execution_count": 26,
   "metadata": {},
   "outputs": [
    {
     "name": "stdout",
     "output_type": "stream",
     "text": [
      "       Hello World   \n",
      "Hello World\n"
     ]
    }
   ],
   "source": [
    "my_str = \"       Hello World   \"\n",
    "print(my_str)\n",
    "my_str = my_str.strip()  # Assign the stripped string back to my_str\n",
    "print(my_str)\n"
   ]
  }
 ],
 "metadata": {
  "kernelspec": {
   "display_name": "Python 3",
   "language": "python",
   "name": "python3"
  },
  "language_info": {
   "codemirror_mode": {
    "name": "ipython",
    "version": 3
   },
   "file_extension": ".py",
   "mimetype": "text/x-python",
   "name": "python",
   "nbconvert_exporter": "python",
   "pygments_lexer": "ipython3",
   "version": "3.13.0"
  }
 },
 "nbformat": 4,
 "nbformat_minor": 2
}
