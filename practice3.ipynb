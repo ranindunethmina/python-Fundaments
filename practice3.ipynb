{
 "cells": [
  {
   "cell_type": "code",
   "execution_count": null,
   "metadata": {},
   "outputs": [
    {
     "name": "stdout",
     "output_type": "stream",
     "text": [
      "Something else\n"
     ]
    }
   ],
   "source": [
    "response_code = 203\n",
    "\n",
    "match response_code:\n",
    "    case 200:\n",
    "        print(\"OK\")\n",
    "    case 201:\n",
    "        print(\"Created\")\n",
    "    case 404:\n",
    "        print(\"Not Found\")\n",
    "    case 500:\n",
    "        print(\"Internal server Error\")\n",
    "    case _:\n",
    "        print(\"Something else\")                "
   ]
  },
  {
   "cell_type": "code",
   "execution_count": 15,
   "metadata": {},
   "outputs": [
    {
     "name": "stdout",
     "output_type": "stream",
     "text": [
      "14\n"
     ]
    }
   ],
   "source": [
    "numbers = [4, 3, 7]\n",
    "match numbers:\n",
    "    case[x, y]:\n",
    "        print(x*y)\n",
    "    case[x, y, z]:\n",
    "        print(x+ y+ z)\n",
    "    case _:\n",
    "        print(\"The list does not contain\")        \n"
   ]
  },
  {
   "cell_type": "code",
   "execution_count": 24,
   "metadata": {},
   "outputs": [
    {
     "name": "stdout",
     "output_type": "stream",
     "text": [
      "Something Else\n"
     ]
    }
   ],
   "source": [
    "task = [1, 3, 5]\n",
    "lenght = len(task)\n",
    "\n",
    "match lenght:\n",
    "    case 0:\n",
    "        print(\"empty\")\n",
    "    case 1:\n",
    "        print(\"Has One Element\")  \n",
    "    case 2:\n",
    "        print(\"Has two Element\")\n",
    "    case _:\n",
    "        print(\"Something Else\")         \n",
    "\n",
    "# check_length = [4,3]\n",
    "# match check_length:\n",
    "#   case  []:\n",
    "#     print(\"empty\")\n",
    "#   case [x]:\n",
    "#     print(\"1 element\")\n",
    "#   case [x,y]:\n",
    "#     print(\"2 element\")  \n",
    "#   case _:\n",
    "#     print(\"Out of check\")        "
   ]
  },
  {
   "cell_type": "code",
   "execution_count": null,
   "metadata": {},
   "outputs": [],
   "source": []
  }
 ],
 "metadata": {
  "kernelspec": {
   "display_name": "Python 3",
   "language": "python",
   "name": "python3"
  },
  "language_info": {
   "codemirror_mode": {
    "name": "ipython",
    "version": 3
   },
   "file_extension": ".py",
   "mimetype": "text/x-python",
   "name": "python",
   "nbconvert_exporter": "python",
   "pygments_lexer": "ipython3",
   "version": "3.13.0"
  }
 },
 "nbformat": 4,
 "nbformat_minor": 2
}
